{
 "cells": [
  {
   "cell_type": "markdown",
   "metadata": {},
   "source": [
    "## Final Project W261 - Spring, 2019 (Saturday Sections)\n",
    "Kyle Chuang\n",
    "Siobhan Harrington\n",
    "Tracy Huang\n",
    "Hannah Morgan\n",
    "Nathan Nam\n"
   ]
  },
  {
   "cell_type": "markdown",
   "metadata": {},
   "source": [
    "## I. Introduction and Question Formulation"
   ]
  },
  {
   "cell_type": "markdown",
   "metadata": {},
   "source": [
    "In just a few short decades, internet advertising has become an $80 billion industry and surpassed television advertising in terms of revenue.  As consumers spend more and more time online, companies have followed their customers and communicate with them through web banners, frame ads, pop ups, and email.  Internet advertising is attractive to companies because it is generally low cost, targetable, and measurable. Companies can target consumers based on browser history, cookies stored on their computer, and user preferences.  As individual digital footprints increase, there is more and more data for online advertisers to use to predict which ads will result in success.  \n",
    "\n",
    "The success of these endeavors can be measured in a variety of ways.  Firstly, they can measure the click through rate (CTR).  Did the potential customer click on the advertisement that was displayed?  Secondly, they can measure what level of interaction the consumer had.  How long did the potential customer stay on the website?  Did the potential customer interact with the website?  Did the potential customer purchase the item (also known as the conversion rate)?  These measurements allow companies to better understand the impact of the online ad as compared with a television or newspaper ad. However, the latency of a metric like a conversion rate (for example, the customer could come back later after thinking about it and then purchase the product) makes it more difficult to track, while the click through rate requires less latency to track. \n",
    "\n",
    "The online advertising field, with a wealth of knowledge about users and a straight forward method to track the success of the ads, lends itself to the machine learning field.  In 2005, Criteo was founded to help companies \"deliver the right ad at the right moment\".  In 2014, Critero decided to crowdsource the machine learning capabilities in advertising through a Kaggle Competition.  Critero released 44 million records of traffic logs to the Kaggle community and offered up to $10,000 in prize money to the winning team.  The request was straight forward: use the unlabeled data to determine a probability that the user will click through to the ad.  The data provided included advertiser information, user information, ad metadata, and user/advertiser interaction history.  However, the hashed data made it impossible to tell what column contained what data category.  Each team was required to submit the results of a test file with the predicted probability for every record and to agree to release their source code.\n",
    "\n",
    "This kaggle competition had several challenging aspects and questions to ponder:\n",
    "\n",
    "1.  How do we approach a dataset without any context?  The training set includes 1 label field, 13 numeric fields, and 26 hashed categorical fields.  It was impossible to apply any industry acumen or logical interpretation/bias to the data. \n",
    "\n",
    "2.  How do we approach modeling such an enormous dataset (44 million records) with so many potential features?  The categorical data contained over 33 million unique values across the 26 columns.  How do we understand the interaction of so many variables when we are not sure what they mean?\n",
    "\n",
    "3. Can we accurately predict if the user will click on this ad?  This is the ultimate question of the challenge.\n",
    "\n",
    "4. How do we measure success of the model we build?\n",
    "\n",
    "The first question is addressed in our approach to pre-processing of the data. Since no contextual information was given, we utilized properties of the data itself to remove features and edit variables. Dealing with the large amount of data required utilizing skills learned in class, including partitioning and serializing the data, utilizing Spark, and running the code on a GCP instance. Questions 3, successfully predicting click through rate, we did our best to answer through our algorithm design. How that success is measured we decided was a good fit for the log-loss method.  \n",
    "\n",
    "\n",
    "Sources Used:\n",
    "\n",
    "* https://en.wikipedia.org/wiki/Online_advertising \n",
    "* https://www.washingtonpost.com/apps/g/page/business/how-targeted-advertising-works/412/??noredirect=on\n",
    "* https://www.criteo.com/\n",
    "* https://www.kaggle.com/c/criteo-display-ad-challenge/discussion/9568#latest-49996\n",
    "    "
   ]
  },
  {
   "cell_type": "markdown",
   "metadata": {},
   "source": [
    "## II. Algorithm Theory"
   ]
  },
  {
   "cell_type": "markdown",
   "metadata": {},
   "source": [
    "A linear modeling technique is great and does well in a variety of problems but the drawback is that the model only learns the effect of all variables or features individually rather than in combination and non-linear features are missed. Therefore, while we use logistic regression as a baseline (since it is the better regression model for boolean classification) the model we chose to more fully develop for click through rate is decision tree modeling and random forest. Some other pros to decision tree modeling include its ability to easily handle categorical data with little preprocessing, handles missing values well, is easily scalable, and is one of the most accurate modeling techniques out there. Furthermore, it is able to model non-linear functions. \n",
    "\n",
    "A classification decision tree model breaks the data down into a series of decisions based upon the the features that branch out until the stopping criteria is met. At a high level, the model starts with a root node, and the feature assigned to that root node is split to create an edge, and that edge spawns either another internal node or returns a leaf node or terminal node with one of the classification decisions attached to it. For each record, we follow the tree until a termination node is reached, and then our prediction is the value of that node. \n",
    "\n",
    "Sources: \n",
    "\n",
    "* https://www.analyticsvidhya.com/blog/2018/01/factorization-machines/?utm_campaign=buffer&utm_content=buffer81252&utm_medium=social&utm_source=twitter.com "
   ]
  },
  {
   "cell_type": "markdown",
   "metadata": {},
   "source": [
    "<img src=\"ToyDT21.jpeg\">\n"
   ]
  },
  {
   "cell_type": "markdown",
   "metadata": {},
   "source": [
    "Technically, how is this done? The algorithm for Decision Tree learning follows a recursive binary splitting approach that is top down and greedy [6]. It is top down because the data all starts at the root node and then works its way down the tree, and it is greedy because at each node the best decision for the moment is made, not the best decision for overall minimum loss. Several ways to know when to stop splitting the data and creating a terminal node are:\n",
    "\n",
    "* All of the training data in that node is of the same classification\n",
    "* There are less than a certain number of records in that node\n",
    "* A certain number of layers of nodes have been created\n",
    "\n",
    "The next thing to look at is how features are chosen and split for nodes. This is done using information gain or Gini index. The difference in entropy before and after the split gives us the quality of the split and the information gain of the split - the most desirable split at that time is the one with the highest information gain.\n",
    "\n",
    "$H(X)=-\\sum p(x)log(p(x))$\n",
    "\n",
    "\n",
    "Information Gain = H(parent node) - weighted average H(children)\n",
    "\n",
    "The Gini index is very similar to Information gain. and the equation is shown below. It is a measure of the purity of the split - if the Gini index is 0, then the data is split perfectly. The $\\hat{p}$ below represents the proportion of training observations in that classification.\n",
    "\n",
    "$G = \\sum \\hat{p}(1-\\hat{p})$\n",
    "\n",
    "Misclassification error can also be used. Gini index and information gain/entropy are better measurements since they optimize the probabilities, which theoretically, should optimize the misclassification and generalize better. For unordered categorical features that have many more than two variables, which is almost all of our categorical variables (because of the hash we don't know if there exists a natural order), Breiman's theorem is utilized to reduce the number of split comparisons. Essentially, the unique variables in the feature are sorted by the average classification value, and splits are only calculated in that order. Instead of $2^n$ number of split comparisons, only n split comparisons need to be evaluated\n",
    "\n"
   ]
  },
  {
   "cell_type": "markdown",
   "metadata": {},
   "source": [
    "While decision tree modeling is a great method, it does tend to overfit the training data and become not very generalizable. Therefore, we want to introduce an ensemble method to make it better, called random forest. Essentially, the random forest algorithm makes a specified number of decision tree models with a random selection of features. Then, the data is fed to all of those trees, and the highest percentage output decision is chosen as the final decision. Random forest is a highly effective method because it reduces the bias without significantly increasing the variance. \n",
    "\n",
    "Random forests are a popular ensemble model that have won many kaggle competitions over the years. Thanks to the Google project, PLANET - the spark ML library has a highly parallelizable method for decision trees. In this toy example, we will walk through what the PLANET drive code is doing under the hood.\n",
    "\n",
    "Below is a high level diagram of the process. A decision tree run in parallel with the PLANET methodology can be broken into three parts.\n",
    "\n",
    "1. \"Initialization\" - this step explores the continuous variables and identifies good split points. It is only run one time per decision tree. The information is returned to the controller, and the controller will pass this information onto every subsequent job.\n",
    "\n",
    "2. \"FindBest\" is the most complex step. It will read through all the data in parallel and use Breimann's algorithm to calculate the best split\n",
    "\n",
    "3. \"InMemory\" works in much the same way as \"FindBest\", but the controller will only invoke this step if there is a node within the tree that can easily fit in memory. \"InMemory\" skips the parallelization steps to save on overhead when it is not required. Our toy example will surely pass through this part of the framework.\n",
    "\n",
    "This diagram is slightly misleading since the controller communicates with each phase, but for visual clarity- we omitted all the arrows.\n",
    "\n",
    "Each decision tree is run in parallel, and then each step can use multiple mappers and reducers to work through subsets of the total data. This highly paralleiizable approach has enabled data scientists to run huge datasets through Random Forest with only commercially available hardware. \n"
   ]
  },
  {
   "cell_type": "markdown",
   "metadata": {},
   "source": [
    "<img src=\"ToyHighLevel21.jpeg\">"
   ]
  },
  {
   "cell_type": "markdown",
   "metadata": {},
   "source": [
    "Now, that we understand the high level flow, let's dig into what is happening under the hood.\n"
   ]
  },
  {
   "cell_type": "markdown",
   "metadata": {},
   "source": [
    "<img src=\"ToyLowLevel21.jpeg\">"
   ]
  },
  {
   "cell_type": "markdown",
   "metadata": {},
   "source": [
    "The initialization phase runs once per decision tree.  This parallelized phase helps the algorithm break up the continuous variables into viable split points.  It runs this process one time to aggregate each continuous feature into equal groups so the next phase can use this metadata many times.  \n",
    "\n",
    "Find Best Splits runs one time for each decision tree level.  It is also highly parallelized - partitioning based on parent node.  The controller/master node maintains the current Decision Tree Diagram.  This information is sent to the Mappers along with a data subset and the continuous variable split points produced by the initialization phase.  The mappers process the data in parallel. There are two types of outputs from each mapper - Ordered Attributes(continuous variables) or Unordered Attributes (categorical data).  The output is slightly different since the Ordered attributes maintain the split value as part of the key.  The reducer will determine the purity and output the results back to the controller.  The controller will add this information into the decision tree and repeat the process until we have reached a stopping point (based on criteria described earlier).\n",
    "\n",
    "The In Memory process follows very similar steps except it is not done in parallel.  The controller recognizes that the group of records that need to be processed for that node is small enough to run on a single mapper/reducer."
   ]
  },
  {
   "cell_type": "markdown",
   "metadata": {},
   "source": [
    "In order to better understand what is actually happening in the Reducer step of the job, we have a toy example with a much simpler version of our data.  There is only a categorical variable and one continuous variable in this dataset.  The process will use GINI to decide which variable to break on.\n",
    "\n",
    "The categorical variable broke the data up into 7 and 3 records with a better click through rate on the smaller dataset. \n",
    "\n",
    "The continuous dataset was divided in half to explore the impact of this decision point.  The GINI calculation showed that while this produced a pure node, it was more effective to start with the division on the categorical variable.\n",
    "\n",
    "Sources: \n",
    "\n",
    "* https://databricks.com/blog/2015/01/21/random-forests-and-boosting-in-mllib.html\n",
    "* http://static.googleusercontent.com/media/research.google.com/en/us/pubs/archive/36296.pdf\n",
    "   "
   ]
  },
  {
   "cell_type": "markdown",
   "metadata": {},
   "source": [
    "<img src=\"ToyGINIDiagram21.jpeg\">"
   ]
  },
  {
   "cell_type": "markdown",
   "metadata": {},
   "source": [
    "## III. EDA"
   ]
  },
  {
   "cell_type": "markdown",
   "metadata": {},
   "source": [
    "While this kaggle challenge provided very little metadata or context, we can take a look at the data itself to answer some of our design questions.  Namely:\n",
    "\n",
    "1.  How many columns of data are well populated?  If a column is largely null, this field could be a good candidate for pruning.\n",
    "\n",
    "2.  How are the features distributed within the columns?  When we one-hot-encode this data, this will tell us how sparse our matrix will be.  Additionally, if a specific feature (value within a column) only occurs a handful of times, then including this variable may lead to overfitting our training data.\n",
    "\n",
    "3.  Are there any correlations among our numeric values?  In other words, could we remove any numeric columns because the values are redundant or close to redundant?\n",
    "\n",
    "Other notes on data quality: all records have a label of 0 or 1, and all categorical/numerical columns contain all the same data type. There are some null values throughout, and they are addressed later. "
   ]
  },
  {
   "cell_type": "markdown",
   "metadata": {},
   "source": [
    "Before we dig into the details of the EDA, we need to load up the data. This cell prints out a schema of the data so we can understand the raw format."
   ]
  },
  {
   "cell_type": "code",
   "execution_count": 1,
   "metadata": {},
   "outputs": [
    {
     "name": "stdout",
     "output_type": "stream",
     "text": [
      "rm: cannot remove 'train.parquet': No such file or directory\n",
      "root\n",
      " |-- label: integer (nullable = true)\n",
      " |-- _2: integer (nullable = true)\n",
      " |-- _3: integer (nullable = true)\n",
      " |-- _4: integer (nullable = true)\n",
      " |-- _5: integer (nullable = true)\n",
      " |-- _6: integer (nullable = true)\n",
      " |-- _7: integer (nullable = true)\n",
      " |-- _8: integer (nullable = true)\n",
      " |-- _9: integer (nullable = true)\n",
      " |-- _10: integer (nullable = true)\n",
      " |-- _11: integer (nullable = true)\n",
      " |-- _12: integer (nullable = true)\n",
      " |-- _13: integer (nullable = true)\n",
      " |-- _14: integer (nullable = true)\n",
      " |-- _15: integer (nullable = true)\n",
      " |-- _16: string (nullable = true)\n",
      " |-- _17: string (nullable = true)\n",
      " |-- _18: string (nullable = true)\n",
      " |-- _19: string (nullable = true)\n",
      " |-- _20: string (nullable = true)\n",
      " |-- _21: string (nullable = true)\n",
      " |-- _22: string (nullable = true)\n",
      " |-- _23: string (nullable = true)\n",
      " |-- _24: string (nullable = true)\n",
      " |-- _25: string (nullable = true)\n",
      " |-- _26: string (nullable = true)\n",
      " |-- _27: string (nullable = true)\n",
      " |-- _28: string (nullable = true)\n",
      " |-- _29: string (nullable = true)\n",
      " |-- _30: string (nullable = true)\n",
      " |-- _31: string (nullable = true)\n",
      " |-- _32: string (nullable = true)\n",
      " |-- _33: string (nullable = true)\n",
      " |-- _34: string (nullable = true)\n",
      " |-- _35: string (nullable = true)\n",
      " |-- _36: string (nullable = true)\n",
      " |-- _37: string (nullable = true)\n",
      " |-- _38: string (nullable = true)\n",
      " |-- _39: string (nullable = true)\n",
      " |-- _40: string (nullable = true)\n",
      "\n"
     ]
    }
   ],
   "source": [
    "#Housekeeping to get ready to use the dataset:\n",
    "import re\n",
    "import ast\n",
    "import time\n",
    "import numpy as np\n",
    "import pandas as pd\n",
    "import seaborn as sns\n",
    "#import matplotlib.pyplot as plt\n",
    "#from plotnine import *\n",
    "from pyspark.mllib.stat import Statistics\n",
    "import pandas as pd\n",
    "import matplotlib.pyplot as plt\n",
    "\n",
    "from pyspark.sql import SQLContext, Row\n",
    "from pyspark.sql import HiveContext, Row\n",
    "import pyspark.sql.functions as F\n",
    "from pyspark.sql import types\n",
    "from pyspark.sql.functions import lit\n",
    "from pyspark.sql.functions import explode\n",
    "from pyspark.sql.functions import col, split\n",
    "from functools import reduce\n",
    "from pyspark.sql.functions import col, lit, when\n",
    "\n",
    "from pyspark.ml.feature import OneHotEncoder, StringIndexer\n",
    "\n",
    "from pyspark.sql import SparkSession\n",
    "app_name = \"w261FinalProject_notebook\"\n",
    "master = \"local[*]\"\n",
    "spark = SparkSession\\\n",
    "        .builder\\\n",
    "        .appName(app_name)\\\n",
    "        .master(master)\\\n",
    "        .getOrCreate()\n",
    "sc = spark.sparkContext\n",
    "\n",
    "!rm -r train.parquet\n",
    "\n",
    "traindf = spark.read.option(\"delimiter\", \"\\t\").csv(\"gs://w261-final-nathan/data/train.txt\")\n",
    "\n",
    "for i in range(0,15):\n",
    "    traindf=traindf.withColumn('_c'+str(i),traindf['_c'+str(i)].cast('integer'))\n",
    "traindf = traindf.withColumnRenamed(\"_c0\", \"label\")\n",
    "for i in range(1,40):\n",
    "    traindf = traindf.withColumnRenamed(\"_c\"+str(i), \"_\"+str(i+1))\n",
    "traindf.printSchema()\n",
    "\n",
    "traindf.write.parquet('gs://w261-final-nathan/data/train2.parquet')\n",
    "traindf2=spark.read.parquet('gs://w261-final-nathan/data/train2.parquet')\n"
   ]
  },
  {
   "cell_type": "markdown",
   "metadata": {},
   "source": [
    "#### III.A NULLS Analysis\n",
    "\n",
    "First, we will explore how much of our data is not actually populated. Columns with very little data are good candidates for feature reduction. For example, column _15 has less than 2% of the rows populated.  Every column has at least some data. \n"
   ]
  },
  {
   "cell_type": "code",
   "execution_count": 77,
   "metadata": {},
   "outputs": [
    {
     "name": "stdout",
     "output_type": "stream",
     "text": [
      "Total Number of Records: 45840617\n",
      "label: 0.0%\n",
      "_2: 45.360550011794125%\n",
      "_3: 0.0%\n",
      "_4: 21.46447330759095%\n",
      "_5: 21.67808736082239%\n",
      "_6: 2.580936028849699%\n",
      "_7: 22.36516144623446%\n",
      "_8: 4.325565687739325%\n",
      "_9: 0.049678650704025204%\n",
      "_10: 4.325565687739325%\n",
      "_11: 45.360550011794125%\n",
      "_12: 4.325565687739325%\n",
      "_13: 76.50780965709951%\n",
      "_14: 21.67808736082239%\n",
      "_15: 98.01545428587927%\n",
      "_16: 0.0%\n",
      "_17: 3.4019459205795592%\n",
      "_18: 3.4019459205795592%\n",
      "_19: 0.0%\n",
      "_20: 12.086715586747012%\n",
      "_21: 0.0%\n",
      "_22: 0.0%\n",
      "_23: 0.0%\n",
      "_24: 0.0%\n",
      "_25: 0.0%\n",
      "_26: 3.4019459205795592%\n",
      "_27: 0.0%\n",
      "_28: 0.0%\n",
      "_29: 0.0%\n",
      "_30: 3.4019459205795592%\n",
      "_31: 0.0%\n",
      "_32: 0.0%\n",
      "_33: 44.00651500829494%\n",
      "_34: 44.00651500829494%\n",
      "_35: 3.4019459205795592%\n",
      "_36: 76.25349588990044%\n",
      "_37: 0.0%\n",
      "_38: 3.4019459205795592%\n",
      "_39: 44.00651500829494%\n",
      "_40: 44.00651500829494%\n"
     ]
    }
   ],
   "source": [
    "#Number of null values out of 44,000,000\n",
    "tot=traindf2.count()\n",
    "print('Total Number of Records:', tot)\n",
    "x= traindf2.filter(\"label is NULL\").count()\n",
    "print ('label:', str(x/tot*100) + '%')\n",
    "for i in range(2,41):\n",
    "    x= traindf2.filter(\"_\"+str(i) + \" is NULL\").count()\n",
    "    print ('_'+str(i)+':', str(x/tot*100) + '%')"
   ]
  },
  {
   "cell_type": "markdown",
   "metadata": {},
   "source": [
    "#### III.B How are the features distributed within the data set?\n",
    "Because continuous numeric variables are modeled very differently from categorical data, we will seek to understand the distributions of these two types of data differently. First, we'll start with the numeric data using a two percent sample. Almost all our data ranges start at zero with the exception of column 3 and column 15.  For many columns the standard deviation and range of the data is fairly tight, but there are a handful of columns with a wide spread between the minimum and the maximum. "
   ]
  },
  {
   "cell_type": "code",
   "execution_count": 64,
   "metadata": {},
   "outputs": [
    {
     "data": {
      "text/html": [
       "<div>\n",
       "<style scoped>\n",
       "    .dataframe tbody tr th:only-of-type {\n",
       "        vertical-align: middle;\n",
       "    }\n",
       "\n",
       "    .dataframe tbody tr th {\n",
       "        vertical-align: top;\n",
       "    }\n",
       "\n",
       "    .dataframe thead th {\n",
       "        text-align: right;\n",
       "    }\n",
       "</style>\n",
       "<table border=\"1\" class=\"dataframe\">\n",
       "  <thead>\n",
       "    <tr style=\"text-align: right;\">\n",
       "      <th></th>\n",
       "      <th>count</th>\n",
       "      <th>mean</th>\n",
       "      <th>std</th>\n",
       "      <th>min</th>\n",
       "      <th>25%</th>\n",
       "      <th>50%</th>\n",
       "      <th>75%</th>\n",
       "      <th>max</th>\n",
       "    </tr>\n",
       "  </thead>\n",
       "  <tbody>\n",
       "    <tr>\n",
       "      <th>label</th>\n",
       "      <td>917802.0</td>\n",
       "      <td>2.564856e-01</td>\n",
       "      <td>4.366932e-01</td>\n",
       "      <td>0.0</td>\n",
       "      <td>0.0</td>\n",
       "      <td>0.0</td>\n",
       "      <td>1.0</td>\n",
       "      <td>1.0</td>\n",
       "    </tr>\n",
       "    <tr>\n",
       "      <th>_2</th>\n",
       "      <td>500884.0</td>\n",
       "      <td>3.485675e+00</td>\n",
       "      <td>9.101944e+00</td>\n",
       "      <td>0.0</td>\n",
       "      <td>0.0</td>\n",
       "      <td>1.0</td>\n",
       "      <td>3.0</td>\n",
       "      <td>703.0</td>\n",
       "    </tr>\n",
       "    <tr>\n",
       "      <th>_3</th>\n",
       "      <td>917802.0</td>\n",
       "      <td>1.053090e+02</td>\n",
       "      <td>3.901994e+02</td>\n",
       "      <td>-2.0</td>\n",
       "      <td>0.0</td>\n",
       "      <td>3.0</td>\n",
       "      <td>35.0</td>\n",
       "      <td>30363.0</td>\n",
       "    </tr>\n",
       "    <tr>\n",
       "      <th>_4</th>\n",
       "      <td>720357.0</td>\n",
       "      <td>2.669778e+01</td>\n",
       "      <td>3.867813e+02</td>\n",
       "      <td>0.0</td>\n",
       "      <td>2.0</td>\n",
       "      <td>6.0</td>\n",
       "      <td>18.0</td>\n",
       "      <td>65535.0</td>\n",
       "    </tr>\n",
       "    <tr>\n",
       "      <th>_5</th>\n",
       "      <td>718194.0</td>\n",
       "      <td>7.329425e+00</td>\n",
       "      <td>8.819909e+00</td>\n",
       "      <td>0.0</td>\n",
       "      <td>2.0</td>\n",
       "      <td>4.0</td>\n",
       "      <td>10.0</td>\n",
       "      <td>778.0</td>\n",
       "    </tr>\n",
       "    <tr>\n",
       "      <th>_6</th>\n",
       "      <td>894054.0</td>\n",
       "      <td>1.865574e+04</td>\n",
       "      <td>6.995584e+04</td>\n",
       "      <td>0.0</td>\n",
       "      <td>329.0</td>\n",
       "      <td>2825.0</td>\n",
       "      <td>10149.0</td>\n",
       "      <td>2325853.0</td>\n",
       "    </tr>\n",
       "    <tr>\n",
       "      <th>_7</th>\n",
       "      <td>712059.0</td>\n",
       "      <td>1.155613e+02</td>\n",
       "      <td>3.258102e+02</td>\n",
       "      <td>0.0</td>\n",
       "      <td>8.0</td>\n",
       "      <td>33.0</td>\n",
       "      <td>103.0</td>\n",
       "      <td>42865.0</td>\n",
       "    </tr>\n",
       "    <tr>\n",
       "      <th>_8</th>\n",
       "      <td>877964.0</td>\n",
       "      <td>1.637293e+01</td>\n",
       "      <td>6.566547e+01</td>\n",
       "      <td>0.0</td>\n",
       "      <td>1.0</td>\n",
       "      <td>3.0</td>\n",
       "      <td>11.0</td>\n",
       "      <td>7234.0</td>\n",
       "    </tr>\n",
       "    <tr>\n",
       "      <th>_9</th>\n",
       "      <td>917330.0</td>\n",
       "      <td>1.250606e+01</td>\n",
       "      <td>1.594085e+01</td>\n",
       "      <td>0.0</td>\n",
       "      <td>2.0</td>\n",
       "      <td>7.0</td>\n",
       "      <td>19.0</td>\n",
       "      <td>3760.0</td>\n",
       "    </tr>\n",
       "    <tr>\n",
       "      <th>_10</th>\n",
       "      <td>877964.0</td>\n",
       "      <td>1.063061e+02</td>\n",
       "      <td>2.215655e+02</td>\n",
       "      <td>0.0</td>\n",
       "      <td>10.0</td>\n",
       "      <td>38.0</td>\n",
       "      <td>109.0</td>\n",
       "      <td>17707.0</td>\n",
       "    </tr>\n",
       "    <tr>\n",
       "      <th>_11</th>\n",
       "      <td>500884.0</td>\n",
       "      <td>6.170890e-01</td>\n",
       "      <td>6.851415e-01</td>\n",
       "      <td>0.0</td>\n",
       "      <td>0.0</td>\n",
       "      <td>1.0</td>\n",
       "      <td>1.0</td>\n",
       "      <td>8.0</td>\n",
       "    </tr>\n",
       "    <tr>\n",
       "      <th>_12</th>\n",
       "      <td>877964.0</td>\n",
       "      <td>2.737974e+00</td>\n",
       "      <td>5.221986e+00</td>\n",
       "      <td>0.0</td>\n",
       "      <td>1.0</td>\n",
       "      <td>1.0</td>\n",
       "      <td>3.0</td>\n",
       "      <td>179.0</td>\n",
       "    </tr>\n",
       "    <tr>\n",
       "      <th>_13</th>\n",
       "      <td>214973.0</td>\n",
       "      <td>9.820768e-01</td>\n",
       "      <td>5.521335e+00</td>\n",
       "      <td>0.0</td>\n",
       "      <td>0.0</td>\n",
       "      <td>0.0</td>\n",
       "      <td>1.0</td>\n",
       "      <td>862.0</td>\n",
       "    </tr>\n",
       "    <tr>\n",
       "      <th>_14</th>\n",
       "      <td>718194.0</td>\n",
       "      <td>8.202981e+00</td>\n",
       "      <td>1.475488e+01</td>\n",
       "      <td>0.0</td>\n",
       "      <td>2.0</td>\n",
       "      <td>4.0</td>\n",
       "      <td>10.0</td>\n",
       "      <td>3700.0</td>\n",
       "    </tr>\n",
       "    <tr>\n",
       "      <th>_15</th>\n",
       "      <td>18183.0</td>\n",
       "      <td>8.444354e+07</td>\n",
       "      <td>1.432717e+07</td>\n",
       "      <td>5930803.0</td>\n",
       "      <td>87552397.0</td>\n",
       "      <td>87552397.0</td>\n",
       "      <td>87552397.0</td>\n",
       "      <td>98237733.0</td>\n",
       "    </tr>\n",
       "  </tbody>\n",
       "</table>\n",
       "</div>"
      ],
      "text/plain": [
       "          count          mean           std        min         25%  \\\n",
       "label  917802.0  2.564856e-01  4.366932e-01        0.0         0.0   \n",
       "_2     500884.0  3.485675e+00  9.101944e+00        0.0         0.0   \n",
       "_3     917802.0  1.053090e+02  3.901994e+02       -2.0         0.0   \n",
       "_4     720357.0  2.669778e+01  3.867813e+02        0.0         2.0   \n",
       "_5     718194.0  7.329425e+00  8.819909e+00        0.0         2.0   \n",
       "_6     894054.0  1.865574e+04  6.995584e+04        0.0       329.0   \n",
       "_7     712059.0  1.155613e+02  3.258102e+02        0.0         8.0   \n",
       "_8     877964.0  1.637293e+01  6.566547e+01        0.0         1.0   \n",
       "_9     917330.0  1.250606e+01  1.594085e+01        0.0         2.0   \n",
       "_10    877964.0  1.063061e+02  2.215655e+02        0.0        10.0   \n",
       "_11    500884.0  6.170890e-01  6.851415e-01        0.0         0.0   \n",
       "_12    877964.0  2.737974e+00  5.221986e+00        0.0         1.0   \n",
       "_13    214973.0  9.820768e-01  5.521335e+00        0.0         0.0   \n",
       "_14    718194.0  8.202981e+00  1.475488e+01        0.0         2.0   \n",
       "_15     18183.0  8.444354e+07  1.432717e+07  5930803.0  87552397.0   \n",
       "\n",
       "              50%         75%         max  \n",
       "label         0.0         1.0         1.0  \n",
       "_2            1.0         3.0       703.0  \n",
       "_3            3.0        35.0     30363.0  \n",
       "_4            6.0        18.0     65535.0  \n",
       "_5            4.0        10.0       778.0  \n",
       "_6         2825.0     10149.0   2325853.0  \n",
       "_7           33.0       103.0     42865.0  \n",
       "_8            3.0        11.0      7234.0  \n",
       "_9            7.0        19.0      3760.0  \n",
       "_10          38.0       109.0     17707.0  \n",
       "_11           1.0         1.0         8.0  \n",
       "_12           1.0         3.0       179.0  \n",
       "_13           0.0         1.0       862.0  \n",
       "_14           4.0        10.0      3700.0  \n",
       "_15    87552397.0  87552397.0  98237733.0  "
      ]
     },
     "execution_count": 64,
     "metadata": {},
     "output_type": "execute_result"
    }
   ],
   "source": [
    "df=traindf2.sample(False,0.02).toPandas()\n",
    "df.describe().T"
   ]
  },
  {
   "cell_type": "markdown",
   "metadata": {},
   "source": [
    "One note about column 15 - it evaluated as a numerical data column, but was listed in the Kaggle competition as a categorical column. It was already noted for pruning due to earlier analysis, and this anomaly of behavior and it's distribution (middle quartiles the same values) reinforces that. \n",
    "\n",
    "Next, we'll explore the distributions of the categorical data.  We can not run calculations on the data in order to understand the distribution, but we can run counts.  There are 33,761,117 features within the categorical data, so it is not easy to just plot all the values in a histogram.  However, the data below represents each column and the top three feature values within that column.  This enables us to understand if there are just a couple values that comprise the majority of each column."
   ]
  },
  {
   "cell_type": "code",
   "execution_count": 81,
   "metadata": {
    "scrolled": true
   },
   "outputs": [
    {
     "name": "stdout",
     "output_type": "stream",
     "text": [
      "Column            Top Value         Second Value           Third Value       (Count of Distinct Features)  \n",
      "Column16:    38a947a1: 0.11%       207b2d81: 0.04%       38d50e09: 0.04%       (583)\n",
      "Column17:        None: 0.03%       d032c263: 0.02%       02cf9876: 0.01%       (10131227)\n",
      "Column18:    c18be181: 0.04%           None: 0.03%       29998ed1: 0.02%       (2202608)\n",
      "Column19:    25c83c98: 0.67%       4cf72387: 0.16%       43b19349: 0.06%       (305)\n",
      "Column20:    7e0ccccf: 0.40%       fbad5c96: 0.22%       fe6b92e5: 0.19%       (24)\n",
      "Column21:    1c86e0eb: 0.02%       dc7659bd: 0.01%       7195046d: 0.01%       (12517)\n",
      "Column22:    0b153874: 0.59%       5b392875: 0.17%       1f89b562: 0.07%       (633)\n",
      "Column23:    a73ee510: 0.90%       7cc72ec2: 00.1%       a18233ea: 00.0%       (3)\n",
      "Column24:    3b08e48b: 0.22%       efea433b: 0.01%       fbbf2c95: 0.01%       (93145)\n",
      "Column25:    755e4a50: 0.03%       e51ddf94: 0.02%       7f8ffe57: 0.02%       (5683)\n",
      "Column26:        None: 0.03%       dfbb09fb: 0.02%       6aaba33c: 0.02%       (8351593)\n",
      "Column27:    5978055e: 0.03%       3516f6e6: 0.02%       46f42a63: 0.02%       (3194)\n",
      "Column28:    b28479f6: 0.35%       07d13a8f: 0.34%       1adce6ef: 0.15%       (27)\n",
      "Column29:    2d0bb053: 0.01%       d345b1a0: 0.01%       3628a186: 0.01%       (14992)\n",
      "Column30:        None: 0.03%       84898b2a: 0.02%       b041b04a: 0.02%       (5461306)\n",
      "Column31:    e5ba7672: 0.46%       07c540c4: 0.13%       d4bb7bd8: 0.11%       (10)\n",
      "Column32:    e88ffc9d: 0.03%       891589e7: 0.03%       2804effd: 0.03%       (5652)\n",
      "Column33:        None: 0.44%       21ddcdc9: 0.34%       55dd3565: 0.02%       (2173)\n",
      "Column34:        None: 0.44%       b1252a9d: 0.19%       5840adea: 0.19%       (4)\n",
      "Column35:        None: 0.03%       0014c32a: 0.02%       723b4dfd: 0.02%       (7046547)\n",
      "Column36:        None: 0.76%       ad3062eb: 0.14%       c9d4222a: 0.08%       (18)\n",
      "Column37:    32c7478e: 0.44%       3a171ecb: 00.2%       423fab69: 0.12%       (15)\n",
      "Column38:    3fdb382b: 0.05%       b34f3128: 0.05%       3b183c5c: 0.05%       (286181)\n",
      "Column39:        None: 0.44%       001f3601: 0.14%       e8b83407: 0.11%       (105)\n",
      "Column40:        None: 0.44%       49d68486: 0.04%       c84c4aec: 0.02%       (142572)\n"
     ]
    }
   ],
   "source": [
    "print('Column            Top Value         Second Value           Third Value       (Count of Distinct Features)  ')\n",
    "for i in range(16,41):\n",
    "    test =traindf2.groupby(\"_\"+str(i)).count().sort(\"count\", ascending=False).toPandas()\n",
    "    print('Column' + str(i) + ':    ' + str(test.iloc[0][0]).rjust(8,' ') +': '+ str(round(test.iloc[0][1]/tot,2)).ljust(4,'0') +'%       ' + str(test.iloc[1][0]).rjust(8,' ') +': '+ str(round(test.iloc[1][1]/tot,2)).rjust(4,'0')+'%       ' + str(test.iloc[2][0]).rjust(8,' ') +': '+ str(round(test.iloc[2][1]/tot,2)).rjust(4,'0')+'%       ('+ str(len(test)) + ')')"
   ]
  },
  {
   "cell_type": "markdown",
   "metadata": {},
   "source": [
    "While pie charts are not always the best choice for depicting data, they are very helpful for giving a quick glance at the distribution of each categorical column in this case.  The graphs below represent the features (or values) within each column for a **two percent sample**.  The title of each graph displays the column.  Many columns contains a lot of low-frequency features judging from the rainbow of colors we see in several charts.  Our training data set is large and will contain a lot of values that will not be as populated in our test set.  In order to ensure generalizability, we will identify the low frequency values and move them into a generic low-frequency bucket (\"Other\") for modeling purposes.\n",
    "\n",
    "It is also clear that some columns have a huge number of features.  We will look into that next."
   ]
  },
  {
   "cell_type": "code",
   "execution_count": 17,
   "metadata": {},
   "outputs": [
    {
     "data": {
      "image/png": "[encoded data removed]",
      "text/plain": [
       "<Figure size 1440x2880 with 25 Axes>"
      ]
     },
     "metadata": {},
     "output_type": "display_data"
    }
   ],
   "source": [
    "#pull a sample\n",
    "df2=traindf2.sample(False,0.02)\n",
    "#create a pie chart per categorical column\n",
    "plt.figure(figsize=(20, 40))\n",
    "for i in range(16,41):\n",
    "    test =df2.groupby(\"_\"+str(i)).count().toPandas()\n",
    "    plt.subplot(18, 2, i-15, title='Column _'+str(i))\n",
    "    plt.pie(test['count'])\n",
    "plt.show()"
   ]
  },
  {
   "cell_type": "markdown",
   "metadata": {},
   "source": [
    "After reviewing the pie charts, we know we have ALOT of categorical values which will become features in our model.  It looks like we should consider removing categorical fields with more than 10,000 unique values - this would include columns 17, 18, 21, 24, 26, 29, 30, 35, 38, 40. Removing columns with too many unique features helps to prevent overfitting, as well as helps with the scalability of the model for decision tree and logistic regression. 10,000 was chosen as a starting point, and reduces the number of columns by ~ 1/3. Future work could play with this feature engineering metric. \n"
   ]
  },
  {
   "cell_type": "code",
   "execution_count": 82,
   "metadata": {},
   "outputs": [
    {
     "name": "stdout",
     "output_type": "stream",
     "text": [
      "Unique values for each feature:\n",
      "label: 2 \n",
      "_2: 649 \n",
      "_3: 9364 \n",
      "_4: 14746 \n",
      "_5: 490 \n",
      "_6: 476707 \n",
      "_7: 11618 \n",
      "_8: 4142 \n",
      "_9: 1373 \n",
      "_10: 7275 \n",
      "_11: 13 \n",
      "_12: 169 \n",
      "_13: 407 \n",
      "_14: 1376 \n",
      "_15: 32 \n",
      "_16: 583 \n",
      "_17: 10131227 \n",
      "_18: 2202608 \n",
      "_19: 305 \n",
      "_20: 24 \n",
      "_21: 12517 \n",
      "_22: 633 \n",
      "_23: 3 \n",
      "_24: 93145 \n",
      "_25: 5683 \n",
      "_26: 8351593 \n",
      "_27: 3194 \n",
      "_28: 27 \n",
      "_29: 14992 \n",
      "_30: 5461306 \n",
      "_31: 10 \n",
      "_32: 5652 \n",
      "_33: 2173 \n",
      "_34: 4 \n",
      "_35: 7046547 \n",
      "_36: 18 \n",
      "_37: 15 \n",
      "_38: 286181 \n",
      "_39: 105 \n",
      "_40: 142572 \n"
     ]
    }
   ],
   "source": [
    "print('Unique values for each feature:')\n",
    "for col in  traindf2.columns:\n",
    "    c=traindf2.select(col).distinct().count()\n",
    "    print(f'{col}: {c} ')"
   ]
  },
  {
   "cell_type": "markdown",
   "metadata": {},
   "source": [
    "#### III.C Correlation\n",
    "Continuing in our quest to reduce features, we turn our attention to highly correlated numeric values. If two values are highly correlated, including both values can create noise and lower-quality models. For example, users who visit a certain website may correlate with users who open spam emails. Including both these features could be redundant if there is a high correlation rate."
   ]
  },
  {
   "cell_type": "code",
   "execution_count": 69,
   "metadata": {},
   "outputs": [
    {
     "name": "stdout",
     "output_type": "stream",
     "text": [
      "          label        _2        _3        _4        _5        _6        _7  \\\n",
      "label  1.000000  0.104088  0.044435  0.009770 -0.055718 -0.076539 -0.055812   \n",
      "_2     0.104088  1.000000  0.034108  0.038390  0.081069 -0.068993 -0.058315   \n",
      "_3     0.044435  0.034108  1.000000 -0.008308 -0.081530 -0.006260 -0.013320   \n",
      "_4     0.009770  0.038390 -0.008308  1.000000  0.042022 -0.003412  0.005079   \n",
      "_5    -0.055718  0.081069 -0.081530  0.042022  1.000000 -0.094468  0.015560   \n",
      "_6    -0.076539 -0.068993 -0.006260 -0.003412 -0.094468  1.000000  0.002158   \n",
      "_7    -0.055812 -0.058315 -0.013320  0.005079  0.015560  0.002158  1.000000   \n",
      "_8     0.085156  0.477780  0.025422  0.000373  0.038521 -0.056270 -0.027060   \n",
      "_9    -0.027436  0.097048 -0.028035  0.045087  0.504384 -0.109468  0.022175   \n",
      "_10    0.024072  0.068316 -0.004732 -0.000465  0.194364 -0.068310  0.186576   \n",
      "_11    0.191717  0.465176  0.035712 -0.003791  0.157900 -0.148043 -0.124605   \n",
      "_12    0.158357  0.304534  0.032760 -0.005823  0.063999 -0.115582 -0.039072   \n",
      "_13    0.049629  0.092164 -0.001294 -0.001431  0.021092 -0.020923 -0.012915   \n",
      "_14   -0.075477  0.005279 -0.034543  0.030109  0.612960 -0.054280  0.045574   \n",
      "\n",
      "             _8        _9       _10       _11       _12       _13       _14  \n",
      "label  0.085156 -0.027436  0.024072  0.191717  0.158357  0.049629 -0.075477  \n",
      "_2     0.477780  0.097048  0.068316  0.465176  0.304534  0.092164  0.005279  \n",
      "_3     0.025422 -0.028035 -0.004732  0.035712  0.032760 -0.001294 -0.034543  \n",
      "_4     0.000373  0.045087 -0.000465 -0.003791 -0.005823 -0.001431  0.030109  \n",
      "_5     0.038521  0.504384  0.194364  0.157900  0.063999  0.021092  0.612960  \n",
      "_6    -0.056270 -0.109468 -0.068310 -0.148043 -0.115582 -0.020923 -0.054280  \n",
      "_7    -0.027060  0.022175  0.186576 -0.124605 -0.039072 -0.012915  0.045574  \n",
      "_8     1.000000  0.077122  0.233840  0.251448  0.685523  0.093341  0.003478  \n",
      "_9     0.077122  1.000000  0.206472  0.156661  0.139375  0.028334  0.631302  \n",
      "_10    0.233840  0.206472  1.000000  0.075001  0.403943  0.045726  0.192788  \n",
      "_11    0.251448  0.156661  0.075001  1.000000  0.386369  0.084908  0.023659  \n",
      "_12    0.685523  0.139375  0.403943  0.386369  1.000000  0.098713  0.010549  \n",
      "_13    0.093341  0.028334  0.045726  0.084908  0.098713  1.000000 -0.003453  \n",
      "_14    0.003478  0.631302  0.192788  0.023659  0.010549 -0.003453  1.000000  \n"
     ]
    }
   ],
   "source": [
    "traindf2_cl = traindf2.fillna('0')\n",
    "col_names = 'label', '_2', '_3', '_4', '_5', '_6', '_7', '_8', '_9', '_10', '_11', '_12', '_13', '_14'\n",
    "traindf2_cl = traindf2_cl.select('label', '_2', '_3', '_4', '_5', '_6', '_7', '_8', '_9', '_10', '_11', '_12', '_13', '_14').fillna(0)\n",
    "\n",
    "from pyspark.mllib.stat import Statistics\n",
    "import pandas as pd\n",
    "\n",
    "features = traindf2_cl.rdd.map(lambda row: row[0:])\n",
    "corr_mat=Statistics.corr(features, method=\"pearson\")\n",
    "corr_df = pd.DataFrame(corr_mat)\n",
    "corr_df.index, corr_df.columns = col_names, col_names\n",
    "print(corr_df)\n"
   ]
  },
  {
   "cell_type": "markdown",
   "metadata": {},
   "source": [
    "It looks like there is little correlation between the label and any of the variables individually, the maximum is about 0.6. Therefore, we did not removed any columns due to high correlation. \n"
   ]
  },
  {
   "cell_type": "markdown",
   "metadata": {},
   "source": [
    "We also spent some time investigating how many unique features were not very frequent.  We found that if we only kept features that occurred more than 10,000 times in a column, then we would limit the one-hot-encoding to 7877 columns or 7877 unique features.  If we limited this value to only values that appeared more than 100 times, then we would have 184,224 unique values.  We used this information later to determine what our threshold should be for binning together various features into an \"other\" category in our later data pre-processing step."
   ]
  },
  {
   "cell_type": "code",
   "execution_count": 39,
   "metadata": {},
   "outputs": [
    {
     "data": {
      "text/plain": [
       "7877"
      ]
     },
     "execution_count": 39,
     "metadata": {},
     "output_type": "execute_result"
    }
   ],
   "source": [
    "keep_columns = keep_col_df.select(\"_c15\").filter(\"cnt>10000\").filter(\"_c15 <> 'null'\").rdd.flatMap(lambda x: x).collect()\n",
    "len(keep_columns)"
   ]
  },
  {
   "cell_type": "code",
   "execution_count": 40,
   "metadata": {},
   "outputs": [
    {
     "data": {
      "text/plain": [
       "184224"
      ]
     },
     "execution_count": 40,
     "metadata": {},
     "output_type": "execute_result"
    }
   ],
   "source": [
    "keep_columns2 = keep_col_df.select(\"_c15\").filter(\"cnt>100\").filter(\"_c15 <> 'null'\").rdd.flatMap(lambda x: x).collect()\n",
    "len(keep_columns2 )"
   ]
  },
  {
   "cell_type": "markdown",
   "metadata": {},
   "source": [
    "## IV. Implementation"
   ]
  },
  {
   "attachments": {
    "image.png": {
     "image/png": "[encoded data removed]"
    }
   },
   "cell_type": "markdown",
   "metadata": {},
   "source": [
    "Many iterations of models were run during our testing phase, and a summary of those results are in a table below.  The code in the following sections highlights the data preparation performed and as well as the models run on both sample and full data sets. \n",
    "\n",
    "#### Evaluation - Log Loss\n",
    "\n",
    "Most Click Through Analytics use log loss as their evaluation technique, and we did as well. Instead of considering a pure accuracy metric, this this method takes into account how sure the algorithm was when predicting an accurate Y variable through a calculation involving the log of probability. The goal is to minimize the log loss. This provides a more nuanced approach and provides more certainty to the predictions, compared to a harsh yes/no accuracy.  \n",
    "\n",
    "$y log(p) + (1-y) log(1-p)$\n",
    "\n",
    "http://wiki.fast.ai/index.php/Log_Loss\n",
    "\n",
    "![image.png](attachment:image.png)\n",
    "\n"
   ]
  },
  {
   "cell_type": "markdown",
   "metadata": {},
   "source": [
    "The results table above highlights a summary of our work. The Logistic regression and Random Forest for the full dataset are down below, the code for the rest is in the appendix. The first 4 models were run on a sample dataset. The last model, our chosen model, was Random Forest and was run on the full 44 million record data set (which was first split into training and test). As can be seen, the lowest log losses were for both random forest models. However, it is interesting to note that the highest area under the curve was for the logistic regression model we built. While we did optimize our chosen evaluation method, more work needs to be done to understand the relationship between this metric and others. \n"
   ]
  },
  {
   "cell_type": "markdown",
   "metadata": {},
   "source": [
    "### IV.A Data Preparation"
   ]
  },
  {
   "cell_type": "markdown",
   "metadata": {},
   "source": [
    "Steps taken on the data fed to the decision tree and random forest model:\n",
    "    \n",
    "1.  Remove fields that contain more than 10,000 unique features\n",
    "2.  Use the fields we identified in our EDA to consolidate low-frequency values into a single value\n",
    "3.  Remove fields that had many null values - anything missing more than 20% of the data set\n",
    "\n",
    "Steps taken on the data for Logistic Regression (our baseline model):\n",
    "1.  Remove fields that contain more than 10,000 unique features\n",
    "2.  One Hot Encode the Categorical Fields\n",
    "3.  For Logistic Regression, we will set all the nulls to 0 and added a column to indicate that was done\n",
    "\n",
    "These feature engineering steps will help with scalability/runnability and generalizability of our models. Logistic regression has specific needs that differ from decision tree models, and less feature engineering was done to optimize this model as it was our baseline anyway.  "
   ]
  },
  {
   "cell_type": "code",
   "execution_count": null,
   "metadata": {},
   "outputs": [],
   "source": [
    "#1a. This removes the columns with more than 10k features\n",
    "to_drop =['_17', '_18', '_21', '_24', '_26', '_29', '_30', '_35', '_38', '_40']\n",
    "rawdf2 = rawdf2.drop(*to_drop)"
   ]
  },
  {
   "cell_type": "code",
   "execution_count": null,
   "metadata": {},
   "outputs": [],
   "source": [
    "#1b. This removes the columns with more than 20% nulls.  This is about 40% of the rest of the columns.\n",
    "to_drop =['_4', '_5', '_14', '_7', '_33', '_34', '_39', '_2', '_11', '_36', '_13', '_15']\n",
    "raw_dropped = rawdf2.drop(*to_drop)"
   ]
  },
  {
   "cell_type": "code",
   "execution_count": null,
   "metadata": {},
   "outputs": [],
   "source": [
    "# 2 Consolidate low-frequency values\n",
    "#some of these imports may be repeats\n",
    "from pyspark.sql.functions import col\n",
    "\n",
    "import pyspark as ps\n",
    "from pyspark.sql import SQLContext, Column\n",
    "import pandas as pd\n",
    "import numpy as np\n",
    "from pyspark.sql.functions import col, count as sparkcount, when, lit\n",
    "from pyspark.sql.types import StringType\n",
    "from pyspark.ml.feature import StringIndexer, IndexToString\n",
    "from pyspark.ml import Pipeline\n",
    "import json \n",
    "\n",
    "def withMeta(self, alias, meta):\n",
    "    sc = ps.SparkContext._active_spark_context\n",
    "    jmeta = sc._gateway.jvm.org.apache.spark.sql.types.Metadata\n",
    "    return Column(getattr(self._jc, \"as\")(alias, jmeta.fromJson(json.dumps(meta))))\n",
    "\n",
    "def group_low_freq(df,inColumns,threshold=.01,group_text='other'):\n",
    "    \"\"\"\n",
    "    Index string columns and group all observations that occur in less then a threshold% of the rows in df per column.\n",
    "    :param df: A pyspark.sql.dataframe.DataFrame\n",
    "    :param inColumns: String columns that need to be indexed\n",
    "    :param group_text: String to use as replacement for the observations that need to be grouped.\n",
    "    \"\"\"\n",
    "    total = df.count()\n",
    "    for string_col in inColumns:\n",
    "        # Apply string indexer\n",
    "        pipeline = Pipeline(stages=[StringIndexer(inputCol=string_col, outputCol=\"ix_\"+string_col, handleInvalid=\"skip\")])\n",
    "        df = pipeline.fit(df).transform(df)\n",
    "\n",
    "        # Calculate the number of unique elements to keep\n",
    "        n_to_keep = df.groupby(string_col).agg((sparkcount(string_col)/total).alias('perc')).filter(col('perc')>threshold).count()\n",
    "\n",
    "        # If elements occur below (threshold * number of rows), replace them with n_to_keep.\n",
    "        this_meta = df.select('ix_' + string_col).schema.fields[0].metadata\n",
    "        if n_to_keep != len(this_meta['ml_attr']['vals']):  \n",
    "            this_meta['ml_attr']['vals'] = this_meta['ml_attr']['vals'][0:(n_to_keep+1)]\n",
    "            this_meta['ml_attr']['vals'][n_to_keep] = group_text    \n",
    "            df = df.withColumn('ix_'+string_col,when(col('ix_'+string_col)>=n_to_keep,lit(n_to_keep)).otherwise(col('ix_'+string_col)))\n",
    "\n",
    "        # add the new column with correct metadata, remove original.\n",
    "        df = df.withColumn('ix_'+string_col, withMeta(col('ix_'+string_col), \"\", this_meta))\n",
    "\n",
    "    return df\n",
    "\n",
    "\n",
    "#https://stackoverflow.com/questions/48566982/how-to-efficiently-group-levels-with-low-frequency-counts-in-a-high-cardinality\n",
    "\n",
    "\n",
    "categoricalColumns = ['_3','_6','_8','_9','_10','_12','_16','_19','_20','_22','_23','_25','_27','_28','_31','_32','_37']\n",
    "\n",
    "\n",
    "df = group_low_freq(raw_dropped,categoricalColumns,0.0002)    \n",
    "\n",
    "ix_cols = [x for x in df.columns if 'ix_' in x]\n",
    "for string_col in ix_cols:    \n",
    "    idx_to_string = IndexToString(inputCol=string_col, outputCol=string_col[3:]+'grouped')\n",
    "    df = idx_to_string.transform(df)\n",
    "\n",
    "#The grouped output column is the one that will have the rare variables replaced"
   ]
  },
  {
   "cell_type": "code",
   "execution_count": null,
   "metadata": {},
   "outputs": [],
   "source": [
    "### Randomly split data into training and test sets. set seed for reproducibility\n",
    "(trainingData, testData) = df.randomSplit([0.7, 0.3], seed=100)\n",
    "print(trainingData.count())\n",
    "print(testData.count())\n",
    "trainingData.write.parquet('gs://final_smh21/data/train.parquet')\n",
    "testData.write.parquet('gs://final_smh21/data/test.parquet')\n",
    "trainingData=spark.read.parquet('gs://final_smh21/data/train.parquet')\n",
    "testData=spark.read.parquet('gs://final_smh21/data/test.parquet')"
   ]
  },
  {
   "cell_type": "code",
   "execution_count": 37,
   "metadata": {},
   "outputs": [],
   "source": [
    "# Reference: https://docs.databricks.com/spark/latest/mllib/binary-classification-mllib-pipelines.html\n",
    "from pyspark.ml import Pipeline\n",
    "from pyspark.ml.feature import OneHotEncoderEstimator, StringIndexer, VectorAssembler\n",
    "\n",
    "categoricalColumns = [ '_16grouped','_19grouped','_20grouped','_22grouped','_23grouped','_25grouped',\n",
    "                      '_27grouped','_28grouped','_31grouped','_32grouped','_37grouped']\n",
    "\n",
    "stages = [] # stages in our Pipeline\n",
    "for categoricalCol in categoricalColumns:\n",
    "    # Category Indexing with StringIndexer\n",
    "    stringIndexer = StringIndexer(inputCol=categoricalCol, outputCol=categoricalCol + \"Index\")\n",
    "    # Use OneHotEncoder to convert categorical variables into binary SparseVectors\n",
    "    encoder = OneHotEncoderEstimator(inputCols=[stringIndexer.getOutputCol()], outputCols=[categoricalCol + \"classVec\"])\n",
    "    # Add stages.  These are not run here, but will run all at once later on.\n",
    "    stages += [stringIndexer, encoder]"
   ]
  },
  {
   "cell_type": "code",
   "execution_count": 38,
   "metadata": {},
   "outputs": [],
   "source": [
    "# Convert label into label indices using the StringIndexer\n",
    "label_stringIdx = StringIndexer(inputCol=\"label\", outputCol=\"_label\")\n",
    "stages += [label_stringIdx]"
   ]
  },
  {
   "cell_type": "code",
   "execution_count": 39,
   "metadata": {},
   "outputs": [],
   "source": [
    "# Transform all features into a vector using VectorAssembler\n",
    "numericCols = ['_3',  '_6',  '_8', '_9', '_10', '_12']\n",
    "\n",
    "assemblerInputs = [c + \"classVec\" for c in categoricalColumns] + numericCols\n",
    "assembler = VectorAssembler(inputCols=assemblerInputs, outputCol=\"features\")\n",
    "stages += [assembler]"
   ]
  },
  {
   "cell_type": "code",
   "execution_count": 40,
   "metadata": {},
   "outputs": [],
   "source": [
    "\n",
    "# Run the stages as a Pipeline. This puts the data through all of the feature transformations we described in a single call.\n",
    " \n",
    "partialPipeline = Pipeline().setStages(stages)\n",
    "pipelineModel = partialPipeline.fit(trainingData)\n",
    "preppedDataDF = pipelineModel.transform(trainingData)"
   ]
  },
  {
   "cell_type": "code",
   "execution_count": 54,
   "metadata": {},
   "outputs": [
    {
     "data": {
      "text/plain": [
       "DataFrame[_label: double, features: vector, label: int, _3: int, _6: int, _8: int, _9: int, _10: int, _12: int, _16: string, _19: string, _20: string, _22: string, _23: string, _25: string, _27: string, _28: string, _31: string, _32: string, _37: string, ix__3: double, ix__6: double, ix__8: double, ix__9: double, ix__10: double, ix__12: double, ix__16: double, ix__19: double, ix__20: double, ix__22: double, ix__23: double, ix__25: double, ix__27: double, ix__28: double, ix__31: double, ix__32: double, ix__37: double, _3grouped: string, _6grouped: string, _8grouped: string, _9grouped: string, _10grouped: string, _12grouped: string, _16grouped: string, _19grouped: string, _20grouped: string, _22grouped: string, _23grouped: string, _25grouped: string, _27grouped: string, _28grouped: string, _31grouped: string, _32grouped: string, _37grouped: string]"
      ]
     },
     "metadata": {},
     "output_type": "display_data"
    }
   ],
   "source": [
    "# Keep relevant columns\n",
    "cols = trainingData.columns\n",
    "selectedcols = [\"_label\", \"features\"] + cols\n",
    "dataset = preppedDataDF.select(selectedcols)\n",
    "display(dataset)\n",
    "\n",
    "from pyspark.ml.classification import RandomForestClassifier\n",
    "\n",
    "# Create an initial RandomForest model.\n",
    "rf = RandomForestClassifier(labelCol=\"_label\", featuresCol=\"features\")\n",
    "\n",
    "# Train model with Training Data\n",
    "rfModel = rf.fit(dataset)"
   ]
  },
  {
   "cell_type": "code",
   "execution_count": 72,
   "metadata": {},
   "outputs": [
    {
     "name": "stdout",
     "output_type": "stream",
     "text": [
      "root\n",
      " |-- label: integer (nullable = true)\n",
      " |-- _2: integer (nullable = true)\n",
      " |-- _3: integer (nullable = true)\n",
      " |-- _4: integer (nullable = true)\n",
      " |-- _5: integer (nullable = true)\n",
      " |-- _6: integer (nullable = true)\n",
      " |-- _7: integer (nullable = true)\n",
      " |-- _8: integer (nullable = true)\n",
      " |-- _9: integer (nullable = true)\n",
      " |-- _10: integer (nullable = true)\n",
      " |-- _11: integer (nullable = true)\n",
      " |-- _12: integer (nullable = true)\n",
      " |-- _13: integer (nullable = true)\n",
      " |-- _14: integer (nullable = true)\n",
      " |-- _15: integer (nullable = true)\n",
      " |-- _16: string (nullable = true)\n",
      " |-- _17: string (nullable = true)\n",
      " |-- _18: string (nullable = true)\n",
      " |-- _19: string (nullable = true)\n",
      " |-- _20: string (nullable = true)\n",
      " |-- _21: string (nullable = true)\n",
      " |-- _22: string (nullable = true)\n",
      " |-- _23: string (nullable = true)\n",
      " |-- _24: string (nullable = true)\n",
      " |-- _25: string (nullable = true)\n",
      " |-- _26: string (nullable = true)\n",
      " |-- _27: string (nullable = true)\n",
      " |-- _28: string (nullable = true)\n",
      " |-- _29: string (nullable = true)\n",
      " |-- _30: string (nullable = true)\n",
      " |-- _31: string (nullable = true)\n",
      " |-- _32: string (nullable = true)\n",
      " |-- _33: string (nullable = true)\n",
      " |-- _34: string (nullable = true)\n",
      " |-- _35: string (nullable = true)\n",
      " |-- _36: string (nullable = true)\n",
      " |-- _37: string (nullable = true)\n",
      " |-- _38: string (nullable = true)\n",
      " |-- _39: string (nullable = true)\n",
      " |-- _40: string (nullable = true)\n",
      "\n"
     ]
    }
   ],
   "source": [
    "sampledf = traindf2.sample(False,0.02)\n",
    "\n",
    "sampledf.write.format(\"parquet\").save(\"gs://w261-final-nathan/data/sample.parquet\")\n",
    "sampledf=spark.read.parquet(\"gs://w261-final-nathan/data/sample.parquet\")\n",
    "\n",
    "\n",
    "sampledf.printSchema()\n",
    "#Identify null records, record that they were null and reset values to 0\n",
    "sampledf = sampledf.select('label', \n",
    "              '_2', '_3', '_4', '_5', '_6', '_7', '_8', '_9', '_10', '_11', '_12', '_13', '_14', '_15', \n",
    "              '_16', '_17', '_18', '_19', '_20', '_21', '_22', '_23', '_24', '_25', \n",
    "              '_26', '_27', '_28', '_29', '_30', '_31', '_32', '_33', '_34', '_35', \n",
    "              '_36', '_37', '_38', '_39', '_40',\n",
    "               F.isnull(sampledf._16).alias(\"null_16\"),\n",
    "               F.isnull(sampledf._17).alias(\"null_17\"),\n",
    "               F.isnull(sampledf._18).alias(\"null_18\"),\n",
    "               F.isnull(sampledf._19).alias(\"null_19\"),\n",
    "               F.isnull(sampledf._20).alias(\"null_20\"),\n",
    "               F.isnull(sampledf._21).alias(\"null_21\"),\n",
    "               F.isnull(sampledf._22).alias(\"null_22\"),\n",
    "               F.isnull(sampledf._23).alias(\"null_23\"),\n",
    "               F.isnull(sampledf._24).alias(\"null_24\"),\n",
    "               F.isnull(sampledf._25).alias(\"null_25\"),\n",
    "               F.isnull(sampledf._26).alias(\"null_26\"),\n",
    "               F.isnull(sampledf._27).alias(\"null_27\"),\n",
    "               F.isnull(sampledf._28).alias(\"null_28\"),\n",
    "               F.isnull(sampledf._29).alias(\"null_29\"),\n",
    "               F.isnull(sampledf._30).alias(\"null_30\"),\n",
    "               F.isnull(sampledf._31).alias(\"null_31\"),\n",
    "               F.isnull(sampledf._32).alias(\"null_32\"),\n",
    "               F.isnull(sampledf._33).alias(\"null_33\"),\n",
    "               F.isnull(sampledf._34).alias(\"null_34\"),\n",
    "               F.isnull(sampledf._35).alias(\"null_35\"),\n",
    "               F.isnull(sampledf._36).alias(\"null_36\"),\n",
    "               F.isnull(sampledf._37).alias(\"null_37\"),\n",
    "               F.isnull(sampledf._38).alias(\"null_38\"),\n",
    "               F.isnull(sampledf._39).alias(\"null_39\"),\n",
    "               F.isnull(sampledf._40).alias(\"null_40\")              \n",
    "             ) \n",
    "\n",
    "sampledf2 = sampledf.na.fill('0')\n",
    "sampledf2 = sampledf2.na.fill(0)"
   ]
  },
  {
   "cell_type": "code",
   "execution_count": 9,
   "metadata": {},
   "outputs": [],
   "source": [
    "# Reference: https://docs.databricks.com/spark/latest/mllib/binary-classification-mllib-pipelines.html\n",
    "from pyspark.ml import Pipeline\n",
    "from pyspark.ml.feature import OneHotEncoderEstimator, StringIndexer, VectorAssembler\n",
    "#categoricalColumns = [\"_\"+str(i) for i in range(15,41)]\n",
    "categoricalColumns = ['_15', '_16','_19','_20','_22','_23','_25','_27','_28','_31','_32','_33','_34','_36','_37','_39']\n",
    "\n",
    "\n",
    "stages = [] # stages in our Pipeline\n",
    "for categoricalCol in categoricalColumns:\n",
    "    # Category Indexing with StringIndexer\n",
    "    stringIndexer = StringIndexer(inputCol=categoricalCol, outputCol=categoricalCol + \"Index\")\n",
    "    # Use OneHotEncoder to convert categorical variables into binary SparseVectors\n",
    "    encoder = OneHotEncoderEstimator(inputCols=[stringIndexer.getOutputCol()], outputCols=[categoricalCol + \"classVec\"])\n",
    "    # Add stages.  These are not run here, but will run all at once later on.\n",
    "    stages += [stringIndexer, encoder]"
   ]
  },
  {
   "cell_type": "code",
   "execution_count": 10,
   "metadata": {},
   "outputs": [],
   "source": [
    "# Convert label into label indices using the StringIndexer\n",
    "label_stringIdx = StringIndexer(inputCol=\"label\", outputCol=\"_label\")\n",
    "stages += [label_stringIdx]"
   ]
  },
  {
   "cell_type": "code",
   "execution_count": 11,
   "metadata": {},
   "outputs": [],
   "source": [
    "# Transform all features into a vector using VectorAssembler\n",
    "numericCols = [\"_\"+str(i) for i in range(2,15)]\n",
    "\n",
    "assemblerInputs = [c + \"classVec\" for c in categoricalColumns] + numericCols\n",
    "assembler = VectorAssembler(inputCols=assemblerInputs, outputCol=\"features\")\n",
    "stages += [assembler]"
   ]
  },
  {
   "cell_type": "code",
   "execution_count": 12,
   "metadata": {},
   "outputs": [],
   "source": [
    "# Run the stages as a Pipeline. This puts the data through all of the feature transformations we described in a single call.\n",
    "from pyspark.ml.classification import LogisticRegression\n",
    "  \n",
    "partialPipeline = Pipeline().setStages(stages)\n",
    "pipelineModel = partialPipeline.fit(sampledf2)\n",
    "preppedDataDF = pipelineModel.transform(sampledf2)"
   ]
  },
  {
   "cell_type": "code",
   "execution_count": 13,
   "metadata": {},
   "outputs": [
    {
     "data": {
      "text/plain": [
       "LogisticRegression_4fb8801224a3b430434b"
      ]
     },
     "metadata": {},
     "output_type": "display_data"
    },
    {
     "data": {
      "text/plain": [
       "DataFrame[label: int, _2: int, _3: int, _4: int, _5: int, _6: int, _7: int, _8: int, _9: int, _10: int, _11: int, _12: int, _13: int, _14: int, _15: int, _16: string, _19: string, _20: string, _22: string, _23: string, _25: string, _27: string, _28: string, _31: string, _32: string, _33: string, _34: string, _36: string, _37: string, _39: string, null_16: boolean, null_17: boolean, null_18: boolean, null_19: boolean, null_20: boolean, null_21: boolean, null_22: boolean, null_23: boolean, null_24: boolean, null_25: boolean, null_26: boolean, null_27: boolean, null_28: boolean, null_29: boolean, null_30: boolean, null_31: boolean, null_32: boolean, null_33: boolean, null_34: boolean, null_35: boolean, null_36: boolean, null_37: boolean, null_38: boolean, null_39: boolean, null_40: boolean, _15Index: double, _15classVec: vector, _16Index: double, _16classVec: vector, _19Index: double, _19classVec: vector, _20Index: double, _20classVec: vector, _22Index: double, _22classVec: vector, _23Index: double, _23classVec: vector, _25Index: double, _25classVec: vector, _27Index: double, _27classVec: vector, _28Index: double, _28classVec: vector, _31Index: double, _31classVec: vector, _32Index: double, _32classVec: vector, _33Index: double, _33classVec: vector, _34Index: double, _34classVec: vector, _36Index: double, _36classVec: vector, _37Index: double, _37classVec: vector, _39Index: double, _39classVec: vector, _label: double, features: vector]"
      ]
     },
     "metadata": {},
     "output_type": "display_data"
    },
    {
     "data": {
      "text/plain": [
       "'ROC'"
      ]
     },
     "metadata": {},
     "output_type": "display_data"
    }
   ],
   "source": [
    "# Fit model to prepped data\n",
    "lrModel = LogisticRegression().fit(preppedDataDF)\n",
    "\n",
    "# ROC for training data\n",
    "display(lrModel, preppedDataDF, \"ROC\")"
   ]
  },
  {
   "cell_type": "code",
   "execution_count": null,
   "metadata": {},
   "outputs": [
    {
     "data": {
      "text/plain": [
       "DataFrame[_label: double, features: vector, label: int, _2: int, _3: int, _4: int, _5: int, _6: int, _7: int, _8: int, _9: int, _10: int, _11: int, _12: int, _13: int, _14: int, _15: int, _16: string, _19: string, _20: string, _22: string, _23: string, _25: string, _27: string, _28: string, _31: string, _32: string, _33: string, _34: string, _36: string, _37: string, _39: string, null_16: boolean, null_17: boolean, null_18: boolean, null_19: boolean, null_20: boolean, null_21: boolean, null_22: boolean, null_23: boolean, null_24: boolean, null_25: boolean, null_26: boolean, null_27: boolean, null_28: boolean, null_29: boolean, null_30: boolean, null_31: boolean, null_32: boolean, null_33: boolean, null_34: boolean, null_35: boolean, null_36: boolean, null_37: boolean, null_38: boolean, null_39: boolean, null_40: boolean]"
      ]
     },
     "metadata": {},
     "output_type": "display_data"
    }
   ],
   "source": [
    "# Keep relevant columns\n",
    "cols = sampledf2.columns # list of all columns\n",
    "selectedcols = [\"_label\", \"features\"] + cols\n",
    "dataset = preppedDataDF.select(selectedcols)\n",
    "display(dataset)"
   ]
  },
  {
   "cell_type": "code",
   "execution_count": 3,
   "metadata": {},
   "outputs": [
    {
     "name": "stdout",
     "output_type": "stream",
     "text": [
      "641697\n",
      "274386\n"
     ]
    }
   ],
   "source": [
    "### Randomly split data into training and test sets. set seed for reproducibility\n",
    "(trainingData, testData) = dataset.randomSplit([0.7, 0.3], seed=100)\n",
    "print(trainingData.count())\n",
    "print(testData.count())"
   ]
  },
  {
   "cell_type": "markdown",
   "metadata": {},
   "source": [
    "### IV.B Logistic Regression - sample data set"
   ]
  },
  {
   "cell_type": "code",
   "execution_count": 16,
   "metadata": {},
   "outputs": [],
   "source": [
    "from pyspark.ml.classification import LogisticRegression\n",
    "\n",
    "# Create initial LogisticRegression model\n",
    "lr = LogisticRegression(labelCol=\"_label\", featuresCol=\"features\", maxIter=10)\n",
    "\n",
    "# Train model with Training Data\n",
    "lrModel = lr.fit(trainingData)"
   ]
  },
  {
   "cell_type": "code",
   "execution_count": 17,
   "metadata": {},
   "outputs": [],
   "source": [
    "# Make predictions on test data using the transform() method.\n",
    "# LogisticRegression.transform() will only use the 'features' column.\n",
    "predictions = lrModel.transform(testData)"
   ]
  },
  {
   "cell_type": "code",
   "execution_count": 18,
   "metadata": {},
   "outputs": [
    {
     "name": "stdout",
     "output_type": "stream",
     "text": [
      "+------+----------+--------------------+\n",
      "|_label|prediction|         probability|\n",
      "+------+----------+--------------------+\n",
      "|   0.0|       0.0|[0.76486286497117...|\n",
      "|   0.0|       0.0|[0.73972765903881...|\n",
      "|   0.0|       0.0|[0.73367849167311...|\n",
      "|   0.0|       1.0|[0.40723117397791...|\n",
      "|   0.0|       0.0|[0.59194585432776...|\n",
      "|   0.0|       0.0|[0.59915631747561...|\n",
      "|   0.0|       0.0|[0.76049530473866...|\n",
      "|   0.0|       0.0|[0.61235375402537...|\n",
      "|   0.0|       0.0|[0.59271820375159...|\n",
      "|   0.0|       1.0|[0.49138893312841...|\n",
      "+------+----------+--------------------+\n",
      "only showing top 10 rows\n",
      "\n"
     ]
    }
   ],
   "source": [
    "# View model's predictions and probabilities of each prediction class\n",
    "# You can select any columns in the above schema to view as well. For example's sake we will choose age & occupation\n",
    "selected = predictions.select(\"_label\", \"prediction\", \"probability\")\n",
    "selected.show(10)"
   ]
  },
  {
   "cell_type": "code",
   "execution_count": 19,
   "metadata": {},
   "outputs": [
    {
     "name": "stdout",
     "output_type": "stream",
     "text": [
      "+----------------------------------------+\n",
      "|probability                             |\n",
      "+----------------------------------------+\n",
      "|[0.7648628649711713,0.23513713502882877]|\n",
      "|[0.7397276590388101,0.2602723409611899] |\n",
      "|[0.7336784916731153,0.2663215083268846] |\n",
      "|[0.40723117397791575,0.5927688260220842]|\n",
      "|[0.5919458543277645,0.40805414567223547]|\n",
      "|[0.5991563174756143,0.40084368252438574]|\n",
      "|[0.7604953047386634,0.23950469526133653]|\n",
      "|[0.6123537540253703,0.38764624597462966]|\n",
      "|[0.592718203751595,0.40728179624840494] |\n",
      "|[0.49138893312841436,0.5086110668715856]|\n",
      "+----------------------------------------+\n",
      "only showing top 10 rows\n",
      "\n"
     ]
    }
   ],
   "source": [
    "selected.select('probability').show(10, False)"
   ]
  },
  {
   "cell_type": "code",
   "execution_count": 20,
   "metadata": {},
   "outputs": [
    {
     "data": {
      "text/plain": [
       "0.7423245818479793"
      ]
     },
     "execution_count": 20,
     "metadata": {},
     "output_type": "execute_result"
    }
   ],
   "source": [
    "from pyspark.ml.evaluation import BinaryClassificationEvaluator\n",
    "\n",
    "# Evaluate model\n",
    "evaluator = BinaryClassificationEvaluator(rawPredictionCol=\"rawPrediction\")\n",
    "evaluator.evaluate(predictions)"
   ]
  },
  {
   "cell_type": "code",
   "execution_count": 22,
   "metadata": {},
   "outputs": [],
   "source": [
    "# As we indicate 3 values for regParam, 3 values for maxIter, and 3 values for elasticNetParam, this grid will have 3 x 3 x 3 = 27 parameter settings for CrossValidator to choose from. \n",
    "# We will create a 5-fold cross validator.\n",
    "from pyspark.ml.tuning import ParamGridBuilder, CrossValidator\n",
    "\n",
    "# Create ParamGrid for Cross Validation\n",
    "paramGrid = (ParamGridBuilder()\n",
    "             .addGrid(lr.regParam, [0.01, 0.5, 2.0])\n",
    "             .addGrid(lr.elasticNetParam, [0.0, 0.5, 1.0])\n",
    "             .addGrid(lr.maxIter, [1, 5, 10])\n",
    "             .build())"
   ]
  },
  {
   "cell_type": "code",
   "execution_count": 23,
   "metadata": {},
   "outputs": [],
   "source": [
    "#running\n",
    "# Create 5-fold CrossValidator\n",
    "cv = CrossValidator(estimator=lr, estimatorParamMaps=paramGrid, evaluator=evaluator, numFolds=5)\n",
    "# Run cross validations\n",
    "cvModel = cv.fit(trainingData)\n",
    "# this will likely take a fair amount of time because of the amount of models that we're creating and testing"
   ]
  },
  {
   "cell_type": "code",
   "execution_count": 24,
   "metadata": {},
   "outputs": [],
   "source": [
    "# Use test set to measure the accuracy of our model on new data\n",
    "predictions_cv = cvModel.transform(testData)"
   ]
  },
  {
   "cell_type": "code",
   "execution_count": 25,
   "metadata": {},
   "outputs": [
    {
     "data": {
      "text/plain": [
       "0.7428305007372072"
      ]
     },
     "execution_count": 25,
     "metadata": {},
     "output_type": "execute_result"
    }
   ],
   "source": [
    "# cvModel uses the best model found from the Cross Validation\n",
    "# Evaluate best model\n",
    "evaluator.evaluate(predictions_cv)"
   ]
  },
  {
   "cell_type": "code",
   "execution_count": 26,
   "metadata": {},
   "outputs": [
    {
     "name": "stdout",
     "output_type": "stream",
     "text": [
      "+--------------------+\n",
      "|      Feature Weight|\n",
      "+--------------------+\n",
      "|-0.21097318243701146|\n",
      "|-0.24416673253790314|\n",
      "|  -0.410204743247671|\n",
      "|  -0.261376178382862|\n",
      "|-0.13460228321618228|\n",
      "|-0.34449454538522445|\n",
      "|  -2.030954766414997|\n",
      "|   1.526019573012764|\n",
      "| -1.9887306452181313|\n",
      "|  1.4078802326511164|\n",
      "+--------------------+\n",
      "only showing top 10 rows\n",
      "\n"
     ]
    }
   ],
   "source": [
    "weights = cvModel.bestModel.coefficients\n",
    "weights = [(float(w),) for w in weights]  # convert numpy type to float, and to tuple\n",
    "weightsDF = sqlContext.createDataFrame(weights, [\"Feature Weight\"])\n",
    "weightsDF.show(10)"
   ]
  },
  {
   "cell_type": "code",
   "execution_count": 27,
   "metadata": {},
   "outputs": [
    {
     "name": "stdout",
     "output_type": "stream",
     "text": [
      "+------+----------+--------------------+\n",
      "|_label|prediction|         probability|\n",
      "+------+----------+--------------------+\n",
      "|   0.0|       0.0|[0.75278815059901...|\n",
      "|   0.0|       0.0|[0.72932940001464...|\n",
      "|   0.0|       0.0|[0.72099265654382...|\n",
      "|   0.0|       1.0|[0.40225493172292...|\n",
      "|   0.0|       0.0|[0.59640288471647...|\n",
      "|   0.0|       0.0|[0.60324582884606...|\n",
      "|   0.0|       0.0|[0.74609875126230...|\n",
      "|   0.0|       0.0|[0.61348376811528...|\n",
      "|   0.0|       0.0|[0.59205809658193...|\n",
      "|   0.0|       1.0|[0.49611941707219...|\n",
      "+------+----------+--------------------+\n",
      "only showing top 10 rows\n",
      "\n"
     ]
    }
   ],
   "source": [
    "# View best model's predictions and probabilities of each prediction class\n",
    "selected_cv = predictions_cv.select(\"_label\", \"prediction\", \"probability\")\n",
    "selected_cv.show(10)"
   ]
  },
  {
   "cell_type": "code",
   "execution_count": 64,
   "metadata": {},
   "outputs": [],
   "source": [
    "selected_cv.write.format(\"parquet\").save(\"gs://w261-final-nathan/result/lr.parquet\")"
   ]
  },
  {
   "cell_type": "code",
   "execution_count": 28,
   "metadata": {},
   "outputs": [],
   "source": [
    "# Save the best model\n",
    "bestModel_lr = cvModel.bestModel\n",
    "# bestModel_lr.write().overwrite().save(\"gs://final_smh21/model/best_lr_model\")\n",
    "bestModel_lr.write().overwrite().save(\"gs://w261-final-nathan/model/best_lr_model\")"
   ]
  },
  {
   "cell_type": "code",
   "execution_count": 73,
   "metadata": {},
   "outputs": [],
   "source": [
    "#calculate log loss\n",
    "from pyspark.sql.functions import udf\n",
    "from pyspark.sql.types import FloatType\n",
    "import pyspark.sql.functions as f\n",
    "\n",
    "def calculateLogLoss(selected):\n",
    "    firstelement=udf(lambda v:float(v[0]),FloatType())\n",
    "    selected2 = selected.select('_label','prediction', firstelement('probability').alias('probability'))\n",
    "\n",
    "\n",
    "    selected3 = (\n",
    "        selected2.withColumn(\n",
    "            'logloss'\n",
    "            , -f.col('_label')*f.log(f.col('probability')) - (1.-f.col('_label'))*f.log(1.-f.col('probability'))\n",
    "        )\n",
    "    )\n",
    "\n",
    "    logloss = selected3.agg(f.mean('logloss').alias('ll')).collect()[0]['ll']\n",
    "    \n",
    "    return logloss"
   ]
  },
  {
   "cell_type": "code",
   "execution_count": 52,
   "metadata": {},
   "outputs": [
    {
     "name": "stdout",
     "output_type": "stream",
     "text": [
      "Log Loss for Logistic Regression: 1.4944086117128101\n"
     ]
    }
   ],
   "source": [
    "# Log Loss for Logistic Regression\n",
    "logloss = calculateLogLoss(selected_cv)\n",
    "print ('Log Loss for Logistic Regression: {}'.format(logloss))"
   ]
  },
  {
   "cell_type": "code",
   "execution_count": 53,
   "metadata": {},
   "outputs": [
    {
     "name": "stdout",
     "output_type": "stream",
     "text": [
      "Log Loss for Logistic Regression: 1.1622972104741207\n"
     ]
    }
   ],
   "source": [
    "# Log Loss for Decision Tree\n",
    "logloss = calculateLogLoss(selected_cv_dt)\n",
    "print ('Log Loss for Decision Tree: {}'.format(logloss))"
   ]
  },
  {
   "cell_type": "code",
   "execution_count": 54,
   "metadata": {},
   "outputs": [
    {
     "name": "stdout",
     "output_type": "stream",
     "text": [
      "Log Loss for Logistic Regression: 1.1038351312460377\n"
     ]
    }
   ],
   "source": [
    "#  Log Loss for Random Forest\n",
    "logloss = calculateLogLoss(selected_cv_rf)\n",
    "print ('Log Loss for Random Forest: {}'.format(logloss))"
   ]
  },
  {
   "cell_type": "code",
   "execution_count": 55,
   "metadata": {},
   "outputs": [
    {
     "name": "stdout",
     "output_type": "stream",
     "text": [
      "Log Loss for Logistic Regression: 1.3189777742640296\n"
     ]
    }
   ],
   "source": [
    "#  Log Loss for Gradient Boosted Trees\n",
    "logloss = calculateLogLoss(selected_cv_gbt)\n",
    "print ('Log Loss for Gradient Boosted: {}'.format(logloss))"
   ]
  },
  {
   "cell_type": "markdown",
   "metadata": {},
   "source": [
    "## IV.C Random Forest -  Full Dataset"
   ]
  },
  {
   "cell_type": "markdown",
   "metadata": {},
   "source": [
    "Random Forest had the lowest log loss on our sample measurements with minimal feature pruning. It was the model we chose to run on the full dataset. Below is the data processing and modeling steps. Some choices we made for our algorithm design: \n",
    "\n",
    "1. We used the default number of trees for algorithm, which is 20. We would like to look into using more trees in future work, but had to balance time and resources\n",
    "2. We used Gini classification because we have categorical variables included, and it does best with those\n",
    "3. Other settings within the Random Forest Pyspark classifier were left at default, this is another avenue for future work\n",
    "\n"
   ]
  },
  {
   "cell_type": "code",
   "execution_count": null,
   "metadata": {},
   "outputs": [],
   "source": [
    "#1a. This removes the columns with more than 10k features\n",
    "to_drop =['_17', '_18', '_21', '_24', '_26', '_29', '_30', '_35', '_38', '_40']\n",
    "rawdf2 = rawdf2.drop(*to_drop)"
   ]
  },
  {
   "cell_type": "code",
   "execution_count": null,
   "metadata": {},
   "outputs": [],
   "source": [
    "#1b. This removes the columns with more than 20% nulls.  This is about 40% of the rest of the columns.\n",
    "to_drop =['_4', '_5', '_14', '_7', '_33', '_34', '_39', '_2', '_11', '_36', '_13', '_15']\n",
    "raw_dropped = rawdf2.drop(*to_drop)"
   ]
  },
  {
   "cell_type": "code",
   "execution_count": null,
   "metadata": {},
   "outputs": [],
   "source": [
    "# 2 Consolidate low-frequency values\n",
    "#some of these imports may be repeats\n",
    "from pyspark.sql.functions import col\n",
    "\n",
    "import pyspark as ps\n",
    "from pyspark.sql import SQLContext, Column\n",
    "import pandas as pd\n",
    "import numpy as np\n",
    "from pyspark.sql.functions import col, count as sparkcount, when, lit\n",
    "from pyspark.sql.types import StringType\n",
    "from pyspark.ml.feature import StringIndexer, IndexToString\n",
    "from pyspark.ml import Pipeline\n",
    "import json \n",
    "\n",
    "def withMeta(self, alias, meta):\n",
    "    sc = ps.SparkContext._active_spark_context\n",
    "    jmeta = sc._gateway.jvm.org.apache.spark.sql.types.Metadata\n",
    "    return Column(getattr(self._jc, \"as\")(alias, jmeta.fromJson(json.dumps(meta))))\n",
    "\n",
    "def group_low_freq(df,inColumns,threshold=.01,group_text='other'):\n",
    "    \"\"\"\n",
    "    Index string columns and group all observations that occur in less then a threshold% of the rows in df per column.\n",
    "    :param df: A pyspark.sql.dataframe.DataFrame\n",
    "    :param inColumns: String columns that need to be indexed\n",
    "    :param group_text: String to use as replacement for the observations that need to be grouped.\n",
    "    \"\"\"\n",
    "    total = df.count()\n",
    "    for string_col in inColumns:\n",
    "        # Apply string indexer\n",
    "        pipeline = Pipeline(stages=[StringIndexer(inputCol=string_col, outputCol=\"ix_\"+string_col, handleInvalid=\"skip\")])\n",
    "        df = pipeline.fit(df).transform(df)\n",
    "\n",
    "        # Calculate the number of unique elements to keep\n",
    "        n_to_keep = df.groupby(string_col).agg((sparkcount(string_col)/total).alias('perc')).filter(col('perc')>threshold).count()\n",
    "\n",
    "        # If elements occur below (threshold * number of rows), replace them with n_to_keep.\n",
    "        this_meta = df.select('ix_' + string_col).schema.fields[0].metadata\n",
    "        if n_to_keep != len(this_meta['ml_attr']['vals']):  \n",
    "            this_meta['ml_attr']['vals'] = this_meta['ml_attr']['vals'][0:(n_to_keep+1)]\n",
    "            this_meta['ml_attr']['vals'][n_to_keep] = group_text    \n",
    "            df = df.withColumn('ix_'+string_col,when(col('ix_'+string_col)>=n_to_keep,lit(n_to_keep)).otherwise(col('ix_'+string_col)))\n",
    "\n",
    "        # add the new column with correct metadata, remove original.\n",
    "        df = df.withColumn('ix_'+string_col, withMeta(col('ix_'+string_col), \"\", this_meta))\n",
    "\n",
    "    return df\n",
    "\n",
    "\n",
    "#https://stackoverflow.com/questions/48566982/how-to-efficiently-group-levels-with-low-frequency-counts-in-a-high-cardinality\n",
    "\n",
    "categoricalColumns = ['_3','_6','_8','_9','_10','_12','_16','_19','_20','_22','_23','_25','_27','_28','_31','_32','_37']\n",
    "\n",
    "\n",
    "df = group_low_freq(raw_dropped,categoricalColumns,0.0002)    \n",
    "\n",
    "ix_cols = [x for x in df.columns if 'ix_' in x]\n",
    "for string_col in ix_cols:    \n",
    "    idx_to_string = IndexToString(inputCol=string_col, outputCol=string_col[3:]+'grouped')\n",
    "    df = idx_to_string.transform(df)\n",
    "\n",
    "#The grouped output column is the one that will have the rare variables replaced"
   ]
  },
  {
   "cell_type": "code",
   "execution_count": null,
   "metadata": {},
   "outputs": [],
   "source": [
    "### Randomly split data into training and test sets. set seed for reproducibility and save the data for future speed\n",
    "(trainingData, testData) = df.randomSplit([0.7, 0.3], seed=100)\n",
    "print(trainingData.count())\n",
    "print(testData.count())\n",
    "trainingData.write.parquet('gs://final_smh21/data/train.parquet')\n",
    "testData.write.parquet('gs://final_smh21/data/test.parquet')\n",
    "trainingData=spark.read.parquet('gs://final_smh21/data/train.parquet')\n",
    "testData=spark.read.parquet('gs://final_smh21/data/test.parquet')"
   ]
  },
  {
   "cell_type": "code",
   "execution_count": null,
   "metadata": {},
   "outputs": [],
   "source": [
    "# Reference: https://docs.databricks.com/spark/latest/mllib/binary-classification-mllib-pipelines.html\n",
    "from pyspark.ml import Pipeline\n",
    "from pyspark.ml.feature import OneHotEncoderEstimator, StringIndexer, VectorAssembler\n",
    "#categoricalColumns = [\"_\"+str(i) for i in range(15,41)]\n",
    "#categoricalColumns = ['_15', '_16','_19','_20','_22','_23','_25','_27','_28','_31','_32','_33','_34','_36','_37','_39']\n",
    "\n",
    "\n",
    "categoricalColumns = [ '_16grouped','_19grouped','_20grouped','_22grouped','_23grouped','_25grouped',\n",
    "                      '_27grouped','_28grouped','_31grouped','_32grouped','_37grouped']\n",
    "\n",
    "stages = [] # stages in our Pipeline\n",
    "for categoricalCol in categoricalColumns:\n",
    "    # Category Indexing with StringIndexer\n",
    "    stringIndexer = StringIndexer(inputCol=categoricalCol, outputCol=categoricalCol + \"Index\")\n",
    "    # Use OneHotEncoder to convert categorical variables into binary SparseVectors\n",
    "    encoder = OneHotEncoderEstimator(inputCols=[stringIndexer.getOutputCol()], outputCols=[categoricalCol + \"classVec\"])\n",
    "    # Add stages.  These are not run here, but will run all at once later on.\n",
    "    stages += [stringIndexer, encoder]"
   ]
  },
  {
   "cell_type": "code",
   "execution_count": null,
   "metadata": {},
   "outputs": [],
   "source": [
    "# Convert label into label indices using the StringIndexer\n",
    "label_stringIdx = StringIndexer(inputCol=\"label\", outputCol=\"_label\")\n",
    "stages += [label_stringIdx]"
   ]
  },
  {
   "cell_type": "code",
   "execution_count": null,
   "metadata": {},
   "outputs": [],
   "source": [
    "# Transform all features into a vector using VectorAssembler\n",
    "#numericCols = [\"_\"+str(i) for i in range(2,15)]\n",
    "numericCols = ['_3',  '_6',  '_8', '_9', '_10', '_12']\n",
    "\n",
    "assemblerInputs = [c + \"classVec\" for c in categoricalColumns] + numericCols\n",
    "assembler = VectorAssembler(inputCols=assemblerInputs, outputCol=\"features\")\n",
    "stages += [assembler]"
   ]
  },
  {
   "cell_type": "code",
   "execution_count": null,
   "metadata": {},
   "outputs": [],
   "source": [
    "\n",
    "# Run the stages as a Pipeline. This puts the data through all of the feature transformations we described in a single call.\n",
    " \n",
    "partialPipeline = Pipeline().setStages(stages)\n",
    "pipelineModel = partialPipeline.fit(trainingData)\n",
    "preppedDataDF = pipelineModel.transform(trainingData)"
   ]
  },
  {
   "cell_type": "code",
   "execution_count": null,
   "metadata": {},
   "outputs": [],
   "source": [
    "# Keep relevant columns\n",
    "cols = trainingData.columns\n",
    "selectedcols = [\"_label\", \"features\"] + cols\n",
    "dataset = preppedDataDF.select(selectedcols)\n"
   ]
  },
  {
   "cell_type": "code",
   "execution_count": 61,
   "metadata": {},
   "outputs": [
    {
     "data": {
      "text/plain": [
       "DataFrame[_label: double, features: vector, label: int, _3: int, _6: int, _8: int, _9: int, _10: int, _12: int, _16: string, _19: string, _20: string, _22: string, _23: string, _25: string, _27: string, _28: string, _31: string, _32: string, _37: string, ix__3: double, ix__6: double, ix__8: double, ix__9: double, ix__10: double, ix__12: double, ix__16: double, ix__19: double, ix__20: double, ix__22: double, ix__23: double, ix__25: double, ix__27: double, ix__28: double, ix__31: double, ix__32: double, ix__37: double, _3grouped: string, _6grouped: string, _8grouped: string, _9grouped: string, _10grouped: string, _12grouped: string, _16grouped: string, _19grouped: string, _20grouped: string, _22grouped: string, _23grouped: string, _25grouped: string, _27grouped: string, _28grouped: string, _31grouped: string, _32grouped: string, _37grouped: string]"
      ]
     },
     "metadata": {},
     "output_type": "display_data"
    }
   ],
   "source": [
    "display(dataset)\n"
   ]
  },
  {
   "cell_type": "code",
   "execution_count": null,
   "metadata": {},
   "outputs": [],
   "source": [
    "\n",
    "from pyspark.ml.classification import RandomForestClassifier\n",
    "\n",
    "# Create an initial RandomForest model.\n",
    "rf = RandomForestClassifier(labelCol=\"_label\", featuresCol=\"features\")\n",
    "\n",
    "# Train model with Training Data\n",
    "rfModel = rf.fit(dataset)"
   ]
  },
  {
   "cell_type": "code",
   "execution_count": 62,
   "metadata": {},
   "outputs": [],
   "source": [
    "#reformat test data\n",
    "partialPipeline = Pipeline().setStages(stages)\n",
    "testpipelineModel = partialPipeline.fit(testData)\n",
    "testpreppedDataDF = pipelineModel.transform(testData)\n",
    "# Keep relevant columns\n",
    "cols = testData.columns\n",
    "selectedcols = [\"_label\", \"features\"] + cols\n",
    "testdataset = testpreppedDataDF.select(selectedcols)"
   ]
  },
  {
   "cell_type": "code",
   "execution_count": 68,
   "metadata": {},
   "outputs": [],
   "source": [
    "# Make predictions on test data using the Transformer.transform() method.\n",
    "predictions_rf_full = rfModel.transform(testdataset)"
   ]
  },
  {
   "cell_type": "code",
   "execution_count": 75,
   "metadata": {},
   "outputs": [
    {
     "name": "stdout",
     "output_type": "stream",
     "text": [
      "+------+----------+--------------------+\n",
      "|_label|prediction|         probability|\n",
      "+------+----------+--------------------+\n",
      "|   0.0|       0.0|[0.74316050574383...|\n",
      "|   0.0|       0.0|[0.70653437441020...|\n",
      "|   0.0|       0.0|[0.69836198378517...|\n",
      "|   0.0|       0.0|[0.70332377473273...|\n",
      "|   0.0|       0.0|[0.69615415717738...|\n",
      "|   0.0|       0.0|[0.65338387432742...|\n",
      "|   0.0|       0.0|[0.68028845915727...|\n",
      "|   0.0|       0.0|[0.70340248511798...|\n",
      "|   0.0|       0.0|[0.73775168460480...|\n",
      "|   0.0|       0.0|[0.74343165369386...|\n",
      "+------+----------+--------------------+\n",
      "only showing top 10 rows\n",
      "\n"
     ]
    }
   ],
   "source": [
    "# View model's predictions and probabilities of each prediction class\n",
    "selected_rf_full = predictions_rf_full.select(\"_label\", \"prediction\", \"probability\")\n",
    "selected_rf_full.show(10)"
   ]
  },
  {
   "cell_type": "code",
   "execution_count": 77,
   "metadata": {},
   "outputs": [
    {
     "data": {
      "text/plain": [
       "0.6837897934216225"
      ]
     },
     "execution_count": 77,
     "metadata": {},
     "output_type": "execute_result"
    }
   ],
   "source": [
    "# Evaluate model\n",
    "#from pyspark.ml.evaluation import BinaryClassificationEvaluator\n",
    "evaluator_rf_full = BinaryClassificationEvaluator()\n",
    "evaluator_rf_full.evaluate(predictions_rf_full)"
   ]
  },
  {
   "cell_type": "code",
   "execution_count": 84,
   "metadata": {},
   "outputs": [
    {
     "data": {
      "text/plain": [
       "0.6837897934216228"
      ]
     },
     "execution_count": 84,
     "metadata": {},
     "output_type": "execute_result"
    }
   ],
   "source": [
    "# Evaluate model\n",
    "#from pyspark.ml.evaluation import BinaryClassificationEvaluator\n",
    "evaluator_rf_full = BinaryClassificationEvaluator()\n",
    "evaluator_rf_full.evaluate(predictions_rf_full)"
   ]
  },
  {
   "cell_type": "code",
   "execution_count": 85,
   "metadata": {},
   "outputs": [
    {
     "name": "stdout",
     "output_type": "stream",
     "text": [
      "+------+----------+--------------------+\n",
      "|_label|prediction|         probability|\n",
      "+------+----------+--------------------+\n",
      "|   0.0|       0.0|[0.74316050574383...|\n",
      "|   0.0|       0.0|[0.70653437441020...|\n",
      "|   0.0|       0.0|[0.69836198378517...|\n",
      "|   0.0|       0.0|[0.70332377473273...|\n",
      "|   0.0|       0.0|[0.69615415717738...|\n",
      "|   0.0|       0.0|[0.65338387432742...|\n",
      "|   0.0|       0.0|[0.68028845915727...|\n",
      "|   0.0|       0.0|[0.70340248511798...|\n",
      "|   0.0|       0.0|[0.73775168460480...|\n",
      "|   0.0|       0.0|[0.74343165369386...|\n",
      "+------+----------+--------------------+\n",
      "only showing top 10 rows\n",
      "\n"
     ]
    }
   ],
   "source": [
    "selected_rf = predictions_rf_full.select(\"_label\", \"prediction\", \"probability\")\n",
    "selected_rf.show(10)\n",
    "logloss = calculateLogLoss(selected_rf)"
   ]
  },
  {
   "cell_type": "code",
   "execution_count": 87,
   "metadata": {},
   "outputs": [
    {
     "name": "stdout",
     "output_type": "stream",
     "text": [
      "1.0865630756323839\n"
     ]
    }
   ],
   "source": [
    "print(logloss)"
   ]
  },
  {
   "cell_type": "code",
   "execution_count": 88,
   "metadata": {},
   "outputs": [],
   "source": [
    "predictions_rf_full.write.parquet('gs://final_smh21/data/rf_predictions.parquet')\n",
    "selected_rf.write.parquet('gs://final_smh21/rf_predictions.parquet')"
   ]
  },
  {
   "cell_type": "markdown",
   "metadata": {},
   "source": [
    "## V. Course Concepts"
   ]
  },
  {
   "cell_type": "markdown",
   "metadata": {},
   "source": [
    "To delete from kyle \"Correctly identifies 3-5 course concepts that are relevant to this algorithm. Discussion demonstrates understanding of the chosen concepts \n",
    "and addresses how\"\n",
    "\n",
    "● scalability / time complexity / I/O vs Memory\n",
    "● functional programming / higher order functions / map reduce paradigm\n",
    "● bias variance tradeoff / model complexity / regularization\n",
    "● associative/commutative operations\n",
    "● race conditions / barrier synchronization / statelessness\n",
    "● the shuffle / combiners / local aggregation\n",
    "● order inversion pattern / composite keys\n",
    "● total order sort / custom partitioning\n",
    "● broadcasting / caching / DAGs / lazy evaluation\n",
    "● GD - convex optimization / Batch vs stochastic\n",
    "● sparse representation (pairs vs stripes)\n",
    "● preserving the graph structure / additional payloads\n",
    "● One Hot Encoding / vector embeddings / feature selection (***)\n",
    "● normalization\n",
    "● assumptions (for different algorithms - for example OLS vs Trees)\n",
    "● implications of iterative algorithms in Hadoop M/R vs Spark\n"
   ]
  },
  {
   "cell_type": "markdown",
   "metadata": {},
   "source": [
    "This course was critical in being able to implement a ML algorithm of this scale. Some of the course concepts we utilized are listed below. \n",
    "\n",
    "* The data is much too large to be all held in memory, so we knew some of the processing would involve reading and writing from disk. We chose parquet as the data type to write to and then read from. Parquet is columnar storage, and which has many advantages when working with Spark dataframes: limits I/O operations, allows access to specific columns (features, in our case), and allows type specific encoding and compression. There are some drawbacks to parquet, like it being bad to write due to the large amount of meta data and its un-appendability. However, we will be reading the dataset more after pre-processing than writing, and all appending was done in spark before it was written out so these concerns are mitigated. Checkpointing the data into parquet files also allowed for easier sharing of the notebook, and helped minimize damages if spark cluster blew up while we were testing our models. \n",
    "* Feature selection was also a key concept we utilized. With this much data, it is important to only include the data that is relevant to making the best model one can, and avoiding wasting resources on processing features that don't create benefit. \n",
    "* Also, the two models that we ran in this project had different requirements and different approaches needed to be taken in setting up the correct datasets to run each model on. The logistic regression model required One Hot encoding of the categorical features, which in turn spawned a feature for every distinct variable. This was a concern when considering scalability, and played into which features we included in the dataset and which model we ended up choosing. All of these steps were not required for Decision Tree and Random Forest modeling - it is a rather robust in that it handles null values quite well, does not require normalized data for evaluation, and also does not require that the categorical variables be One Hot Encoded. \n",
    "* More theory for supporting our choice of Random Forest was mentioned in our introduction, which is the bias variance tradeoff - Random Forest does a good job of reducing bias without increasing variance by much.  \n",
    "* Also, decision trees and Random Forest are very iterative models to build, and utilizing Spark allowed us to optimize a lot of that process that would have to have been very explicitly coded in Hadoop. \n",
    "\n",
    "Sources:\n",
    "\n",
    "https://www.tutorialspoint.com/spark_sql/spark_sql_parquet_files.htm"
   ]
  },
  {
   "cell_type": "markdown",
   "metadata": {},
   "source": [
    "## VI.  If we had more time..."
   ]
  },
  {
   "cell_type": "markdown",
   "metadata": {},
   "source": [
    "1. Build FFM in Spark\n",
    "\n",
    "\"Factorization helps in representing approximately the same relationship between the target and predictors using a lower dimension dense matrix. In this article, I discuss Factorization Machines(FM) and Field Aware Factorization Machines(FFM) which allows us to take advantage of factorization in a regression/classification problem with an implementation using python.\"\n",
    "\n",
    "\"A linear or a logistic modeling technique is great and does well in a variety of problems but the drawback is that the model only learns the effect of all variables or features individually rather than in combination.\"\n",
    "\n",
    "https://www.analyticsvidhya.com/blog/2018/01/factorization-machines/?utm_campaign=buffer&utm_content=buffer81252&utm_medium=social&utm_source=twitter.com\n",
    "\n",
    "2. More Feature Engineering\n",
    "3. Tune Parameters for Random Forest - increase the number of trees and run cross validation\n",
    "4. Matrix Factorization"
   ]
  },
  {
   "cell_type": "markdown",
   "metadata": {},
   "source": [
    "## APP.1 Decision Tree - sample set"
   ]
  },
  {
   "cell_type": "code",
   "execution_count": 30,
   "metadata": {},
   "outputs": [],
   "source": [
    "from pyspark.ml.classification import DecisionTreeClassifier\n",
    "\n",
    "# Create initial Decision Tree Model\n",
    "dt = DecisionTreeClassifier(labelCol=\"_label\", featuresCol=\"features\", maxDepth=3)\n",
    "\n",
    "# Train model with Training Data\n",
    "dtModel = dt.fit(trainingData)\n",
    "\n",
    "# Make predictions on test data using the Transformer.transform() method.\n",
    "predictions_dt = dtModel.transform(testData)"
   ]
  },
  {
   "cell_type": "code",
   "execution_count": 31,
   "metadata": {},
   "outputs": [
    {
     "name": "stdout",
     "output_type": "stream",
     "text": [
      "+------+----------+--------------------+\n",
      "|_label|prediction|         probability|\n",
      "+------+----------+--------------------+\n",
      "|   0.0|       0.0|[0.76968978411267...|\n",
      "|   0.0|       0.0|[0.76968978411267...|\n",
      "|   0.0|       0.0|[0.76968978411267...|\n",
      "|   0.0|       0.0|[0.67812966150315...|\n",
      "|   0.0|       0.0|[0.67812966150315...|\n",
      "|   0.0|       0.0|[0.79658030925078...|\n",
      "|   0.0|       0.0|[0.76968978411267...|\n",
      "|   0.0|       0.0|[0.67812966150315...|\n",
      "|   0.0|       0.0|[0.76968978411267...|\n",
      "|   0.0|       0.0|[0.56201263589276...|\n",
      "+------+----------+--------------------+\n",
      "only showing top 10 rows\n",
      "\n"
     ]
    }
   ],
   "source": [
    "# View model's predictions and probabilities of each prediction class\n",
    "selected_dt = predictions_dt.select(\"_label\", \"prediction\", \"probability\")\n",
    "selected_dt.show(10)"
   ]
  },
  {
   "cell_type": "code",
   "execution_count": 32,
   "metadata": {},
   "outputs": [
    {
     "data": {
      "text/plain": [
       "0.4624579915899342"
      ]
     },
     "execution_count": 32,
     "metadata": {},
     "output_type": "execute_result"
    }
   ],
   "source": [
    "# Evaluate our Decision Tree model with BinaryClassificationEvaluator.\n",
    "from pyspark.ml.evaluation import BinaryClassificationEvaluator\n",
    "# Evaluate model\n",
    "evaluator_dt = BinaryClassificationEvaluator()\n",
    "evaluator_dt.evaluate(predictions_dt)"
   ]
  },
  {
   "cell_type": "code",
   "execution_count": 33,
   "metadata": {},
   "outputs": [
    {
     "data": {
      "text/plain": [
       "'gini'"
      ]
     },
     "execution_count": 33,
     "metadata": {},
     "output_type": "execute_result"
    }
   ],
   "source": [
    "# Entropy and the Gini coefficient are the supported measures of impurity for Decision Trees. \n",
    "# This is Gini by default. Changing this value is simple, model.setImpurity(\"Entropy\").\n",
    "dt.getImpurity()"
   ]
  },
  {
   "cell_type": "code",
   "execution_count": 34,
   "metadata": {},
   "outputs": [],
   "source": [
    "# Create ParamGrid for Cross Validation\n",
    "from pyspark.ml.tuning import ParamGridBuilder, CrossValidator\n",
    "paramGrid_dt = (ParamGridBuilder()\n",
    "             .addGrid(dt.maxDepth, [1, 2, 6, 10])\n",
    "             .addGrid(dt.maxBins, [20, 40, 80])\n",
    "             .build())"
   ]
  },
  {
   "cell_type": "code",
   "execution_count": 35,
   "metadata": {},
   "outputs": [],
   "source": [
    "# Create 5-fold CrossValidator\n",
    "cv_dt = CrossValidator(estimator=dt, estimatorParamMaps=paramGrid_dt, evaluator=evaluator_dt, numFolds=5)\n",
    "\n",
    "# Run cross validations\n",
    "cvModel_dt = cv_dt.fit(trainingData)\n",
    "# Takes ~5 minutes"
   ]
  },
  {
   "cell_type": "code",
   "execution_count": 36,
   "metadata": {},
   "outputs": [],
   "source": [
    "# Use test set to measure the accuracy of our model on new data\n",
    "predictions_cv_dt = cvModel_dt.transform(testData)"
   ]
  },
  {
   "cell_type": "code",
   "execution_count": 37,
   "metadata": {},
   "outputs": [
    {
     "data": {
      "text/plain": [
       "0.6052682675623707"
      ]
     },
     "execution_count": 37,
     "metadata": {},
     "output_type": "execute_result"
    }
   ],
   "source": [
    "\n",
    "# cvModel uses the best model found from the Cross Validation\n",
    "# Evaluate best model\n",
    "evaluator_dt.evaluate(predictions_cv_dt)"
   ]
  },
  {
   "cell_type": "code",
   "execution_count": 38,
   "metadata": {},
   "outputs": [
    {
     "name": "stdout",
     "output_type": "stream",
     "text": [
      "+------+----------+--------------------+\n",
      "|_label|prediction|         probability|\n",
      "+------+----------+--------------------+\n",
      "|   0.0|       0.0|[0.64118218832099...|\n",
      "|   0.0|       0.0|[0.64118218832099...|\n",
      "|   0.0|       0.0|[0.64118218832099...|\n",
      "|   0.0|       0.0|[0.64118218832099...|\n",
      "|   0.0|       0.0|[0.64118218832099...|\n",
      "|   0.0|       0.0|[0.81148475053870...|\n",
      "|   0.0|       0.0|[0.64118218832099...|\n",
      "|   0.0|       0.0|[0.64118218832099...|\n",
      "|   0.0|       0.0|[0.64118218832099...|\n",
      "|   0.0|       0.0|[0.64118218832099...|\n",
      "+------+----------+--------------------+\n",
      "only showing top 10 rows\n",
      "\n"
     ]
    }
   ],
   "source": [
    "# View Best model's predictions and probabilities of each prediction class\n",
    "selected_cv_dt = predictions_cv_dt.select(\"_label\", \"prediction\", \"probability\")\n",
    "selected_cv_dt.show(10)"
   ]
  },
  {
   "cell_type": "code",
   "execution_count": 63,
   "metadata": {},
   "outputs": [],
   "source": [
    "selected_cv_dt.write.format(\"parquet\").save(\"gs://w261-final-nathan/result/dt.parquet\")"
   ]
  },
  {
   "cell_type": "code",
   "execution_count": 39,
   "metadata": {},
   "outputs": [],
   "source": [
    "# Save the best model\n",
    "bestModel_dt = cvModel_dt.bestModel\n",
    "bestModel_dt.write().overwrite().save(\"gs://w261-final-nathan/model/best_dt_model\")"
   ]
  },
  {
   "cell_type": "markdown",
   "metadata": {},
   "source": [
    "## APP.2 Random Forest - sample data set"
   ]
  },
  {
   "cell_type": "code",
   "execution_count": 40,
   "metadata": {},
   "outputs": [],
   "source": [
    "from pyspark.ml.classification import RandomForestClassifier\n",
    "\n",
    "# Create an initial RandomForest model.\n",
    "rf = RandomForestClassifier(labelCol=\"_label\", featuresCol=\"features\")\n",
    "\n",
    "# Train model with Training Data\n",
    "rfModel = rf.fit(trainingData)"
   ]
  },
  {
   "cell_type": "code",
   "execution_count": 41,
   "metadata": {},
   "outputs": [],
   "source": [
    "# Make predictions on test data using the Transformer.transform() method.\n",
    "predictions_rf = rfModel.transform(testData)"
   ]
  },
  {
   "cell_type": "code",
   "execution_count": 42,
   "metadata": {},
   "outputs": [
    {
     "name": "stdout",
     "output_type": "stream",
     "text": [
      "+------+----------+--------------------+\n",
      "|_label|prediction|         probability|\n",
      "+------+----------+--------------------+\n",
      "|   0.0|       0.0|[0.71829446408187...|\n",
      "|   0.0|       0.0|[0.73140111752028...|\n",
      "|   0.0|       0.0|[0.74189277551481...|\n",
      "|   0.0|       0.0|[0.73234944326128...|\n",
      "|   0.0|       0.0|[0.73711547597359...|\n",
      "|   0.0|       0.0|[0.75989253044764...|\n",
      "|   0.0|       0.0|[0.74023369074791...|\n",
      "|   0.0|       0.0|[0.73145370876651...|\n",
      "|   0.0|       0.0|[0.71855535306531...|\n",
      "|   0.0|       0.0|[0.70241369684448...|\n",
      "+------+----------+--------------------+\n",
      "only showing top 10 rows\n",
      "\n"
     ]
    }
   ],
   "source": [
    "\n",
    "# View model's predictions and probabilities of each prediction class\n",
    "selected_rf = predictions_rf.select(\"_label\", \"prediction\", \"probability\")\n",
    "selected_rf.show(10)"
   ]
  },
  {
   "cell_type": "code",
   "execution_count": 43,
   "metadata": {},
   "outputs": [
    {
     "data": {
      "text/plain": [
       "0.6879618562886349"
      ]
     },
     "execution_count": 43,
     "metadata": {},
     "output_type": "execute_result"
    }
   ],
   "source": [
    "from pyspark.ml.evaluation import BinaryClassificationEvaluator\n",
    "\n",
    "# Evaluate model\n",
    "evaluator_rf = BinaryClassificationEvaluator()\n",
    "evaluator_rf.evaluate(predictions_rf)"
   ]
  },
  {
   "cell_type": "code",
   "execution_count": 44,
   "metadata": {},
   "outputs": [],
   "source": [
    "# Create ParamGrid for Cross Validation\n",
    "from pyspark.ml.tuning import ParamGridBuilder, CrossValidator\n",
    "\n",
    "paramGrid_rf = (ParamGridBuilder()\n",
    "             .addGrid(rf.maxDepth, [2, 4, 6])\n",
    "             .addGrid(rf.maxBins, [20, 60])\n",
    "             .addGrid(rf.numTrees, [5, 20])\n",
    "             .build())"
   ]
  },
  {
   "cell_type": "code",
   "execution_count": 45,
   "metadata": {},
   "outputs": [],
   "source": [
    "# Create 5-fold CrossValidator\n",
    "cv_rf = CrossValidator(estimator=rf, estimatorParamMaps=paramGrid_rf, evaluator=evaluator_rf, numFolds=5)\n",
    "\n",
    "# Run cross validations.  This can take a while since it is training over 20 trees!\n",
    "cvModel_rf = cv_rf.fit(trainingData)"
   ]
  },
  {
   "cell_type": "code",
   "execution_count": 46,
   "metadata": {},
   "outputs": [],
   "source": [
    "# Use test set here so we can measure the accuracy of our model on new data\n",
    "predictions_cv_rf = cvModel_rf.transform(testData)"
   ]
  },
  {
   "cell_type": "code",
   "execution_count": 47,
   "metadata": {},
   "outputs": [
    {
     "data": {
      "text/plain": [
       "0.6909502278688711"
      ]
     },
     "execution_count": 47,
     "metadata": {},
     "output_type": "execute_result"
    }
   ],
   "source": [
    "# cvModel uses the best model found from the Cross Validation\n",
    "# Evaluate best model\n",
    "evaluator_rf.evaluate(predictions_cv_rf)"
   ]
  },
  {
   "cell_type": "code",
   "execution_count": 48,
   "metadata": {},
   "outputs": [
    {
     "name": "stdout",
     "output_type": "stream",
     "text": [
      "+------+----------+--------------------+\n",
      "|_label|prediction|         probability|\n",
      "+------+----------+--------------------+\n",
      "|   0.0|       0.0|[0.72245662260733...|\n",
      "|   0.0|       0.0|[0.72858611901285...|\n",
      "|   0.0|       0.0|[0.73908246946696...|\n",
      "|   0.0|       0.0|[0.73095644232050...|\n",
      "|   0.0|       0.0|[0.74132485557052...|\n",
      "|   0.0|       0.0|[0.75464070100611...|\n",
      "|   0.0|       0.0|[0.74353789193336...|\n",
      "|   0.0|       0.0|[0.73470838023503...|\n",
      "|   0.0|       0.0|[0.71525815882183...|\n",
      "|   0.0|       0.0|[0.70713213167538...|\n",
      "+------+----------+--------------------+\n",
      "only showing top 10 rows\n",
      "\n"
     ]
    }
   ],
   "source": [
    "# View Best model's predictions and probabilities of each prediction class\n",
    "selected_cv_rf = predictions_cv_rf.select(\"_label\", \"prediction\", \"probability\")\n",
    "selected_cv_rf.show(10)"
   ]
  },
  {
   "cell_type": "code",
   "execution_count": 62,
   "metadata": {},
   "outputs": [],
   "source": [
    "selected_cv_rf.write.format(\"parquet\").save(\"gs://w261-final-nathan/result/rf.parquet\")"
   ]
  },
  {
   "cell_type": "code",
   "execution_count": 49,
   "metadata": {},
   "outputs": [],
   "source": [
    "# Save the best model\n",
    "bestModel_rf = cvModel_rf.bestModel\n",
    "bestModel_rf.write().overwrite().save(\"gs://w261-final-nathan/model/best_rf_model\")"
   ]
  },
  {
   "cell_type": "markdown",
   "metadata": {},
   "source": [
    "## APP.3 Gradient-Boosted Trees (GBTs) - sample data set\n",
    "\n",
    "GBTs train one tree at a time, where each new tree helps to correct errors made by previously trained trees. With each tree added, the model becomes even more expressive. Was run on only a sample data set, it took a very long time. Future work could include more time working on scalabilty and with ore resources."
   ]
  },
  {
   "cell_type": "code",
   "execution_count": 4,
   "metadata": {},
   "outputs": [],
   "source": [
    "from pyspark.ml.classification import GBTClassifier\n",
    "# Create an initial Gradient-Boosted Trees model.\n",
    "gbt = GBTClassifier(labelCol=\"_label\", featuresCol=\"features\", maxIter=10)\n",
    "# Train model with Training Data\n",
    "gbtModel = gbt.fit(trainingData)"
   ]
  },
  {
   "cell_type": "code",
   "execution_count": 5,
   "metadata": {},
   "outputs": [],
   "source": [
    "# Make predictions on test data using the Transformer.transform() method.\n",
    "predictions_gbt = gbtModel.transform(testData)"
   ]
  },
  {
   "cell_type": "code",
   "execution_count": 6,
   "metadata": {},
   "outputs": [
    {
     "name": "stdout",
     "output_type": "stream",
     "text": [
      "+------+----------+--------------------+\n",
      "|_label|prediction|         probability|\n",
      "+------+----------+--------------------+\n",
      "|   0.0|       0.0|[0.78695591931270...|\n",
      "|   0.0|       0.0|[0.71485423564820...|\n",
      "|   0.0|       0.0|[0.78501008500608...|\n",
      "|   0.0|       0.0|[0.54237874312838...|\n",
      "|   0.0|       0.0|[0.67266779190050...|\n",
      "|   0.0|       0.0|[0.75301528316576...|\n",
      "|   0.0|       0.0|[0.72093522916305...|\n",
      "|   0.0|       0.0|[0.75763993993204...|\n",
      "|   0.0|       0.0|[0.71456733975700...|\n",
      "|   0.0|       1.0|[0.45779534069112...|\n",
      "+------+----------+--------------------+\n",
      "only showing top 10 rows\n",
      "\n"
     ]
    }
   ],
   "source": [
    "# View model's predictions and probabilities of each prediction class\n",
    "selected_gbt = predictions_gbt.select(\"_label\", \"prediction\", \"probability\")\n",
    "selected_gbt.show(10)"
   ]
  },
  {
   "cell_type": "code",
   "execution_count": 7,
   "metadata": {},
   "outputs": [
    {
     "data": {
      "text/plain": [
       "0.7191767136559201"
      ]
     },
     "execution_count": 7,
     "metadata": {},
     "output_type": "execute_result"
    }
   ],
   "source": [
    "from pyspark.ml.evaluation import BinaryClassificationEvaluator\n",
    "\n",
    "# Evaluate model\n",
    "evaluator_gbt = BinaryClassificationEvaluator()\n",
    "evaluator_gbt.evaluate(predictions_gbt)"
   ]
  },
  {
   "cell_type": "code",
   "execution_count": 10,
   "metadata": {},
   "outputs": [],
   "source": [
    "# Create ParamGrid for Cross Validation\n",
    "from pyspark.ml.tuning import ParamGridBuilder, CrossValidator\n",
    "\n",
    "paramGrid_gbt = (ParamGridBuilder()\n",
    "             .addGrid(gbt.maxDepth, [2, 4, 6])\n",
    "             .addGrid(gbt.maxBins, [20, 60])\n",
    "             .addGrid(gbt.maxIter, [10, 20])\n",
    "             .build())"
   ]
  },
  {
   "cell_type": "code",
   "execution_count": 11,
   "metadata": {},
   "outputs": [],
   "source": [
    "# Create 5-fold CrossValidator\n",
    "cv_gbt = CrossValidator(estimator=gbt, estimatorParamMaps=paramGrid_gbt, evaluator=evaluator_gbt, numFolds=5)\n",
    "\n",
    "# Run cross validations.  This can take a while since it is training over 20 trees!\n",
    "cvModel_gbt = cv_gbt.fit(trainingData)"
   ]
  },
  {
   "cell_type": "code",
   "execution_count": 12,
   "metadata": {},
   "outputs": [],
   "source": [
    "# Use test set here so we can measure the accuracy of our model on new data\n",
    "predictions_cv_gbt = cvModel_gbt.transform(testData)"
   ]
  },
  {
   "cell_type": "code",
   "execution_count": 13,
   "metadata": {},
   "outputs": [
    {
     "data": {
      "text/plain": [
       "0.7328902366093857"
      ]
     },
     "execution_count": 13,
     "metadata": {},
     "output_type": "execute_result"
    }
   ],
   "source": [
    "# cvModel uses the best model found from the Cross Validation\n",
    "# Evaluate best model\n",
    "evaluator_gbt.evaluate(predictions_cv_gbt)"
   ]
  },
  {
   "cell_type": "code",
   "execution_count": 14,
   "metadata": {},
   "outputs": [
    {
     "name": "stdout",
     "output_type": "stream",
     "text": [
      "+------+----------+--------------------+\n",
      "|_label|prediction|         probability|\n",
      "+------+----------+--------------------+\n",
      "|   0.0|       0.0|[0.79946989543350...|\n",
      "|   0.0|       0.0|[0.73859408626868...|\n",
      "|   0.0|       0.0|[0.80371768576610...|\n",
      "|   0.0|       1.0|[0.49611004884264...|\n",
      "|   0.0|       0.0|[0.68088297726171...|\n",
      "|   0.0|       0.0|[0.77826850113320...|\n",
      "|   0.0|       0.0|[0.73283773373603...|\n",
      "|   0.0|       0.0|[0.75422843865731...|\n",
      "|   0.0|       0.0|[0.71377531427829...|\n",
      "|   0.0|       1.0|[0.46488612052447...|\n",
      "+------+----------+--------------------+\n",
      "only showing top 10 rows\n",
      "\n"
     ]
    }
   ],
   "source": [
    "# View Best model's predictions and probabilities of each prediction class\n",
    "selected_cv_gbt = predictions_cv_gbt.select(\"_label\", \"prediction\", \"probability\")\n",
    "selected_cv_gbt.show(10)"
   ]
  },
  {
   "cell_type": "code",
   "execution_count": 58,
   "metadata": {},
   "outputs": [],
   "source": [
    "selected_cv_gbt.write.format(\"parquet\").save(\"gs://w261-final-nathan/result/gbt.parquet\")"
   ]
  },
  {
   "cell_type": "code",
   "execution_count": 15,
   "metadata": {},
   "outputs": [],
   "source": [
    "# Save the best model\n",
    "bestModel_gbt = cvModel_gbt.bestModel\n",
    "bestModel_gbt.write().overwrite().save(\"gs://w261-final-nathan/model/best_gbt_model\")"
   ]
  },
  {
   "cell_type": "code",
   "execution_count": null,
   "metadata": {},
   "outputs": [],
   "source": []
  }
 ],
 "metadata": {
  "kernelspec": {
   "display_name": "Python 3",
   "language": "python",
   "name": "python3"
  },
  "language_info": {
   "codemirror_mode": {
    "name": "ipython",
    "version": 3
   },
   "file_extension": ".py",
   "mimetype": "text/x-python",
   "name": "python",
   "nbconvert_exporter": "python",
   "pygments_lexer": "ipython3",
   "version": "3.6.5"
  }
 },
 "nbformat": 4,
 "nbformat_minor": 2
}
